{
 "cells": [
  {
   "cell_type": "code",
   "execution_count": null,
   "metadata": {},
   "outputs": [],
   "source": [
    "from transformers import AutoModelForCausalLM, AutoTokenizer"
   ]
  },
  {
   "cell_type": "code",
   "execution_count": null,
   "metadata": {},
   "outputs": [],
   "source": [
    "base_path = \"/content/drive/My Drive/yl_tez\""
   ]
  },
  {
   "cell_type": "code",
   "execution_count": null,
   "metadata": {},
   "outputs": [],
   "source": [
    "import os\n",
    "if 'COLAB_GPU' in os.environ:\n",
    "    from google.colab import drive\n",
    "    drive.mount('/content/drive')\n",
    "else:\n",
    "    print(\"Yerelde Çalışıyor.\")\n",
    "    base_path = \".\""
   ]
  },
  {
   "cell_type": "code",
   "execution_count": null,
   "metadata": {},
   "outputs": [],
   "source": [
    "model_adi = \"BestModelParameters\"\n",
    "model_yolu = os.path.join(base_path, model_adi)"
   ]
  },
  {
   "cell_type": "code",
   "execution_count": null,
   "metadata": {},
   "outputs": [],
   "source": [
    "tokenizer = AutoTokenizer.from_pretrained(model_yolu)\n",
    "model = AutoModelForCausalLM.from_pretrained(model_yolu)\n",
    "model.to('cuda')\n",
    "model.eval()"
   ]
  },
  {
   "cell_type": "code",
   "execution_count": null,
   "metadata": {},
   "outputs": [],
   "source": [
    "def generate_text(full_prompt_text, tokenizer, model, device, max_length=100):\n",
    "    # Girdi metnini tokenize et ve attention mask oluştur\n",
    "    encoded_input = tokenizer.encode(full_prompt_text, return_tensors='pt', padding=True, truncation=True, max_length=max_length).to(device)\n",
    "\n",
    "    # Metin üretimi\n",
    "    output_sequences = model.generate(\n",
    "        input_ids=encoded_input,\n",
    "        max_length=max_length + 20,  # Cevap için ekstra uzunluk\n",
    "        temperature=1.0,\n",
    "        top_k=50,\n",
    "        top_p=0.95,\n",
    "        repetition_penalty=1.2,\n",
    "        do_sample=True,\n",
    "        num_return_sequences=1\n",
    "    )\n",
    "    generated_text = tokenizer.decode(output_sequences[0], skip_special_tokens=True)\n",
    "    return generated_text\n",
    "def apply_chat_template(message):\n",
    "    doctor_info = f\"<DOCTOR_TITLE> Op. Dr. <SPECIALITY> kadin-hastaliklari-ve-dogum\\n\"\n",
    "    user_message = f\"<USER> {message}\\n\"\n",
    "    assistant_message = f\"<ASSISTANT>\"\n",
    "    return f\"{doctor_info}\\n{user_message}\\n{assistant_message}\"\n",
    "\n",
    "def test_et(tokenizer, model, device):\n",
    "    while True:\n",
    "        # Kullanıcıdan soru girdisi alma\n",
    "        prompt_text = input(\"Soru: \")\n",
    "        if prompt_text == \"exit\":\n",
    "            break\n",
    "        # Tam soru metnini oluştur\n",
    "        full_prompt_text = apply_chat_template(prompt_text)\n",
    "\n",
    "        # Metin üretimi ve çıktının gösterilmesi\n",
    "        generated_text = generate_text(full_prompt_text, tokenizer, model, device)\n",
    "        print(\"Modelin ürettiği cevap:\", generated_text)"
   ]
  },
  {
   "cell_type": "code",
   "execution_count": null,
   "metadata": {},
   "outputs": [],
   "source": [
    "test_et(tokenizer, model, 'cuda')"
   ]
  }
 ],
 "metadata": {
  "language_info": {
   "name": "python"
  }
 },
 "nbformat": 4,
 "nbformat_minor": 2
}
