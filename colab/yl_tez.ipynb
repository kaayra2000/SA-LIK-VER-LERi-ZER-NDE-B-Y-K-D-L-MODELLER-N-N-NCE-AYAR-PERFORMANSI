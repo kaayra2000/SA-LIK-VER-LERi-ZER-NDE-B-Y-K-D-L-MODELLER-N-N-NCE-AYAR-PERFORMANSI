{
  "cells": [
    {
      "cell_type": "markdown",
      "source": [
        "# Sabit işlemler"
      ],
      "metadata": {
        "id": "AYvfzEwH3mNW"
      }
    },
    {
      "cell_type": "markdown",
      "source": [
        "## İmportlar"
      ],
      "metadata": {
        "id": "1rKDcuwP4uUr"
      }
    },
    {
      "cell_type": "code",
      "execution_count": null,
      "metadata": {
        "id": "9ezJ3bVQbNCz"
      },
      "outputs": [],
      "source": [
        "import torch\n",
        "import os\n",
        "from torch.utils.data import DataLoader, Dataset, random_split\n",
        "from torch.optim import AdamW\n",
        "from transformers import AutoModelForCausalLM, AutoTokenizer\n",
        "from torch.nn.utils.rnn import pad_sequence\n",
        "from collections import Counter\n",
        "import re\n",
        "import pandas as pd\n",
        "import matplotlib.pyplot as plt\n",
        "import numpy as np\n",
        "import datetime\n",
        "from tqdm import tqdm  # İlerleme çubuğu için tqdm kütüphanesini kullanıyoruz."
      ]
    },
    {
      "cell_type": "markdown",
      "source": [
        "## Drive Mount"
      ],
      "metadata": {
        "id": "LZJTQepP3p4L"
      }
    },
    {
      "cell_type": "code",
      "execution_count": null,
      "metadata": {
        "colab": {
          "base_uri": "https://localhost:8080/"
        },
        "id": "_r7fe6E1UfAr",
        "outputId": "f138380d-8252-4d83-f079-16a9971bd538"
      },
      "outputs": [
        {
          "output_type": "stream",
          "name": "stdout",
          "text": [
            "Drive already mounted at /content/drive; to attempt to forcibly remount, call drive.mount(\"/content/drive\", force_remount=True).\n"
          ]
        }
      ],
      "source": [
        "from google.colab import drive\n",
        "drive.mount('/content/drive')"
      ]
    },
    {
      "cell_type": "markdown",
      "source": [
        "## Donanım seç"
      ],
      "metadata": {
        "id": "EBAG3Gz03td6"
      }
    },
    {
      "cell_type": "code",
      "execution_count": null,
      "metadata": {
        "colab": {
          "base_uri": "https://localhost:8080/"
        },
        "id": "TA-i9Ro3V2Uq",
        "outputId": "1cd8c66f-6cb5-4e91-e19b-1850b693fe6f"
      },
      "outputs": [
        {
          "output_type": "execute_result",
          "data": {
            "text/plain": [
              "device(type='cpu')"
            ]
          },
          "metadata": {},
          "execution_count": 3
        }
      ],
      "source": [
        "device = torch.device(\"cuda\" if torch.cuda.is_available() else \"cpu\")\n",
        "device"
      ]
    },
    {
      "cell_type": "markdown",
      "source": [
        "## Sabitler"
      ],
      "metadata": {
        "id": "LhBgNZNG3yCD"
      }
    },
    {
      "cell_type": "code",
      "execution_count": null,
      "metadata": {
        "id": "mNNuXPK5T_MH"
      },
      "outputs": [],
      "source": [
        "num_labels = 2\n",
        "\n",
        "lr = 6e-4\n",
        "bs = 16\n",
        "\n",
        "base_path = \"/content/drive/My Drive/yl_tez\"\n",
        "epoch_sayisi = 20\n",
        "max_len = 128\n",
        "# anahatlar\n",
        "metin = \"text\"\n",
        "label = \"diabetes\"\n",
        "model_name = \"ytu-ce-cosmos/turkish-gpt2-medium\"\n",
        "veri_seti_adi = \"ana_veri_seti.csv\"\n",
        "#veri_seti_adi =  \"ana_veri_seti_deneme.csv\"\n",
        "# Veri seti dosya yolu\n",
        "data_filepath = os.path.join(base_path, veri_seti_adi)\n",
        "# Dosya adları\n",
        "model_adi = \"BestModelParameters\"\n",
        "checkpoint_path_name = \"checkpoint\"\n",
        "checkpoint_name = 'checkpoint.pth'\n",
        "best_checkpoint_name = 'best_checkpoint.pth'\n",
        "checkpoint_pth = os.path.join(base_path, checkpoint_path_name)\n",
        "model_yolu = os.path.join(base_path, model_adi)\n",
        "model_path = model_name.replace(\"/\", \"_\").replace(\"-\", \"_\")\n",
        "model_path_without_label = os.path.join(base_path, model_path)\n",
        "gorsel_klasor_adi = \"gorseller\"\n",
        "gorsel_yolu = os.path.join(base_path, gorsel_klasor_adi)\n",
        "SORU_TOKEN =\"<|soru|>\"\n",
        "CEVAP_TOKEN =\"<|cevap|>\""
      ]
    },
    {
      "cell_type": "markdown",
      "source": [
        "# Veri setini oku"
      ],
      "metadata": {
        "id": "zHNg7B7D3z9z"
      }
    },
    {
      "cell_type": "code",
      "execution_count": null,
      "metadata": {
        "id": "Zk7VRTHhVWRc"
      },
      "outputs": [],
      "source": [
        "# Veri dosyasını oku\n",
        "df = pd.read_csv(data_filepath)"
      ]
    },
    {
      "cell_type": "code",
      "execution_count": null,
      "metadata": {
        "colab": {
          "base_uri": "https://localhost:8080/"
        },
        "id": "xwDsAICwmHrk",
        "outputId": "6668e961-384b-48c4-b98b-0625c61422af"
      },
      "outputs": [
        {
          "output_type": "stream",
          "name": "stdout",
          "text": [
            "|    | text                                                                                                                                                                                                                                                                                                                                                                                                     |\n",
            "|---:|:---------------------------------------------------------------------------------------------------------------------------------------------------------------------------------------------------------------------------------------------------------------------------------------------------------------------------------------------------------------------------------------------------------|\n",
            "|  0 | Soru: hba1c verisine göre Hastanın HbA1c değeri, diyabet riskini gösteriyor Senior yaş grubundaki birey Hastanın hipertansiyonu tespit edilmemiştir Tetkikler, hastanın kalp rahatsızlığı olduğunu göstermektedir Ciddi yükseklikte kan şekeri saptandı. Hasta, sigara ile hiç temas etmemiştir Hastanın BMI değeri, normalin üstünde kadındır Cevap: Hastanın diyabetle ilgili bir sorunu görülmemiştir |\n",
            "|  1 | Soru: hba1c verisine göre Hasta için kritik HbA1c düzeyi Hasta, kalp açısından sağlıklıdır Hastanın hipertansiyonla ilgili bir sorunu yoktur Yetişkinlik dönemindeki birey Hasta fazla kilolu Hasta hakkında sigara geçmişi verisi yoktur Kişinin kan şekeri seviyesi normal aralıktadır. kadındır Cevap: Hasta diyabet hastası değildir                                                                 |\n",
            "|  2 | Soru: Hasta fazla kilolu erkektir Ciddi yükseklikte kan şekeri saptandı. hba1c verisine göre Hastanın glisemik düzeyi prediyabetik Ergin bir birey Hastanın kalp rahatsızlığı tespit edilmemiştir Hastanın hipertansiyonla ilgili bir sorunu yoktur Hastanın hiç sigara deneyimi yoktur Cevap: Hastanın diyabetle ilgili bir sorunu görülmemiştir                                                        |\n",
            "|  3 | Soru: Hasta şu anda aktif olarak sigara kullanmaktadır Olgun yaş grubundaki hasta Hasta, sağlıklı vücut kitle indeksine sahip hba1c verisine göre Hasta, normal glisemik kontrol altında Ciddi yükseklikte kan şekeri saptandı. Hasta hipertansiyon açısından temiz bulunmuştur kadındır Hastanın kalp sağlığı yerindedir Cevap: Hastanın diyabet hastası olmadığı belirlenmiştir                        |\n",
            "|  4 | Soru: hba1c verisine göre Hasta, normal glisemik kontrol altında Ciddi yükseklikte kan şekeri saptandı. İleri yaştaki birey Hastada hipertansiyon hastalığı tespit edilmiştir Hasta şu anda aktif olarak sigara kullanmaktadır erkektir Hastanın kalp rahatsızlığı görülmüştür Hastanın BMI değerleri normal aralıkta Cevap: Hastada diyabet hastalığı yoktur                                            |\n"
          ]
        },
        {
          "output_type": "execute_result",
          "data": {
            "text/plain": [
              "100569"
            ]
          },
          "metadata": {},
          "execution_count": 6
        }
      ],
      "source": [
        "print(df.head().to_markdown())\n",
        "len(df)"
      ]
    },
    {
      "cell_type": "markdown",
      "source": [
        "# Fonksiyonlar"
      ],
      "metadata": {
        "id": "dfFeVrW6326q"
      }
    },
    {
      "cell_type": "markdown",
      "source": [
        "## Veri Seti Oluşturma Fonksiyonu"
      ],
      "metadata": {
        "id": "XMDx_-ij34Sa"
      }
    },
    {
      "cell_type": "code",
      "execution_count": null,
      "metadata": {
        "id": "-Hj002ksVfg7"
      },
      "outputs": [],
      "source": [
        "class QADataset(Dataset):\n",
        "    def __init__(self, dataframe, tokenizer):\n",
        "        self.tokenizer = tokenizer\n",
        "        self.data = dataframe\n",
        "        self.decoded_texts = []\n",
        "        # Tokenizer için bir padding token'ı atayın, eğer yoksa\n",
        "        if self.tokenizer.pad_token is None:\n",
        "            self.tokenizer.pad_token = self.tokenizer.eos_token\n",
        "\n",
        "        self.questions = self.data['text'].apply(lambda  x: SORU_TOKEN + \" \" + preprocess_text(x.split(\"Cevap:\")[0].strip().replace(\"Soru:\",\"\")) + \" \")\n",
        "        self.answers = self.data['text'].apply(lambda  x: CEVAP_TOKEN + \" \" + preprocess_text(x.split(\"Cevap:\")[1].strip()) + \" \")\n",
        "\n",
        "        self.inputs = []\n",
        "        self.attention_masks = []\n",
        "\n",
        "        for question, answer in zip(self.questions, self.answers):\n",
        "            # Soru ve cevabı tokenizer ile encode edin\n",
        "            encoded_pair = self.tokenizer.encode_plus(question, answer,\n",
        "                                                      add_special_tokens=True,\n",
        "                                                      max_length=max_len,\n",
        "                                                      padding='max_length',\n",
        "                                                      truncation=True,\n",
        "                                                      return_tensors=\"pt\")\n",
        "            # encodeanan değer nasıl decodelanıyor desti için\n",
        "            #decoded_text = self.tokenizer.decode(encoded_pair['input_ids'][0], skip_special_tokens=False)\n",
        "            #self.decoded_texts.append(decoded_text)\n",
        "            self.inputs.append(encoded_pair['input_ids'])\n",
        "            self.attention_masks.append(encoded_pair['attention_mask'])\n",
        "\n",
        "    def __len__(self):\n",
        "        return len(self.questions)\n",
        "\n",
        "    def __getitem__(self, idx):\n",
        "        return {\n",
        "            'input_ids': self.inputs[idx].squeeze(),  # Batch boyutunu kaldır\n",
        "            'attention_mask': self.attention_masks[idx].squeeze()  # Batch boyutunu kaldır\n",
        "        }\n"
      ]
    },
    {
      "cell_type": "markdown",
      "source": [
        "## Metrik Hesaplama Fonksiyonu"
      ],
      "metadata": {
        "id": "ylFqF8_X37Ua"
      }
    },
    {
      "cell_type": "code",
      "execution_count": null,
      "metadata": {
        "id": "SKMiWqziVjL7"
      },
      "outputs": [],
      "source": [
        "def calculate_perplexity(loss):\n",
        "    return np.exp(loss)\n",
        "\n",
        "# Özel collate_fn fonksiyonu\n",
        "def collate_fn(batch):\n",
        "    # Tokenizer'ın pad_token_id'sini kullanarak padding yapın\n",
        "    input_ids = [item[\"input_ids\"].squeeze(0) for item in batch]  # squeeze(0) boyutunu kaldırır\n",
        "    input_ids_padded = pad_sequence(input_ids, batch_first=True, padding_value=tokenizer.pad_token_id)\n",
        "\n",
        "    # Dikkat maskesi oluşturun (padding olan yerlerde 0, diğer yerlerde 1)\n",
        "    attention_mask = torch.zeros_like(input_ids_padded)\n",
        "    attention_mask[input_ids_padded != tokenizer.pad_token_id] = 1\n",
        "\n",
        "    return {\"input_ids\": input_ids_padded, \"attention_mask\": attention_mask}"
      ]
    },
    {
      "cell_type": "markdown",
      "source": [
        "## Metrik Çizdirme Fonksiyonu"
      ],
      "metadata": {
        "id": "o7apSCUt39hS"
      }
    },
    {
      "cell_type": "code",
      "execution_count": null,
      "metadata": {
        "id": "knsX_H2NVls9"
      },
      "outputs": [],
      "source": [
        "def plot_metrics(losses, perplexities, lr, bs, epochs, gorsel_yolu = gorsel_yolu, gorsel_adi = \"Normal\"):\n",
        "    os.makedirs(gorsel_yolu, exist_ok=True)  # Klasör yoksa\n",
        "    # Kayıp grafiğini kaydetme yolu\n",
        "    loss_graph_path = os.path.join(gorsel_yolu, f\"{gorsel_adi}_lr_{lr}_bs_{bs}_loss.png\")\n",
        "    # Perplexity grafiğini kaydetme yolu\n",
        "    perplexity_graph_path = os.path.join(gorsel_yolu, f\"{gorsel_adi}_lr_{lr}_bs_{bs}_perplexity.png\")\n",
        "\n",
        "    epochs_range = range(1, epochs + 1)\n",
        "\n",
        "    # Kayıp grafiği\n",
        "    plt.figure(figsize=(6, 4))\n",
        "    plt.plot(epochs_range, losses, label='Loss')\n",
        "    plt.title(f'{gorsel_adi} Loss with lr={lr}, bs={bs}')\n",
        "    plt.xlabel('Epoch')\n",
        "    plt.ylabel('Loss')\n",
        "    plt.legend()\n",
        "    plt.tight_layout()\n",
        "    plt.savefig(loss_graph_path)\n",
        "    plt.close()  # Aktif figürü kapat\n",
        "\n",
        "    # Perplexity grafiği\n",
        "    plt.figure(figsize=(6, 4))\n",
        "    plt.plot(epochs_range, perplexities, label='Perplexity')\n",
        "    plt.title(f'{gorsel_adi} Perplexity with lr={lr}, bs={bs}')\n",
        "    plt.xlabel('Epoch')\n",
        "    plt.ylabel('Perplexity')\n",
        "    plt.legend()\n",
        "    plt.tight_layout()\n",
        "    plt.savefig(perplexity_graph_path)\n",
        "    plt.close()  # Aktif figürü kapat"
      ]
    },
    {
      "cell_type": "code",
      "execution_count": null,
      "metadata": {
        "id": "U9o87gv3Vu0y"
      },
      "outputs": [],
      "source": [
        "def find_unique_words(texts):\n",
        "    # Tüm metinlerdeki kelimeleri bulun ve sayın\n",
        "    words = Counter(re.findall(r'\\w+', ' '.join(texts)))\n",
        "    return list(words.keys())\n"
      ]
    },
    {
      "cell_type": "markdown",
      "source": [
        "## Kilometre Taşı Fonksiyonu"
      ],
      "metadata": {
        "id": "_sU-z2Wn4A5C"
      }
    },
    {
      "cell_type": "code",
      "execution_count": null,
      "metadata": {
        "id": "YVy9LqbGCOqB"
      },
      "outputs": [],
      "source": [
        "def save_checkpoint(model, optimizer, epoch, loss, losses, perplexities, val_losses, val_perplexities, checkpoint_path, checkpoint_name = checkpoint_name):\n",
        "    if not os.path.exists(checkpoint_path):\n",
        "        os.makedirs(checkpoint_path)\n",
        "    checkpoint = {\n",
        "        'epoch': epoch,\n",
        "        'model_state_dict': model.state_dict(),\n",
        "        'optimizer_state_dict': optimizer.state_dict(),\n",
        "        'loss': loss,\n",
        "        'losses': losses,\n",
        "        'perplexities': perplexities,\n",
        "        'val_losses': val_losses,\n",
        "        'val_perplexities': val_perplexities\n",
        "    }\n",
        "    torch.save(checkpoint, os.path.join(checkpoint_path, checkpoint_name))\n",
        "    print(f\"Checkpoint şuraya kaydedildi -> {checkpoint_path} loss değeri: {loss}\")\n",
        "def load_checkpoint(checkpoint_path, model, optimizer,checkpoint_name = checkpoint_name):\n",
        "    checkpoint_filepath = os.path.join(checkpoint_path, checkpoint_name)\n",
        "    if os.path.exists(checkpoint_filepath):\n",
        "        print(f\"Checkpoint şu konumdan yükleniyor ->  {checkpoint_filepath}\")\n",
        "        checkpoint = torch.load(checkpoint_filepath, map_location=torch.device(device))\n",
        "        model.load_state_dict(checkpoint['model_state_dict'])\n",
        "        optimizer.load_state_dict(checkpoint['optimizer_state_dict'])\n",
        "        epoch = checkpoint['epoch']\n",
        "        loss = checkpoint.get('loss', float('inf'))\n",
        "        losses = checkpoint.get('losses', [])\n",
        "        perplexities = checkpoint.get('perplexities', [])\n",
        "        val_losses = checkpoint.get('val_losses', [])\n",
        "        val_perplexities = checkpoint.get('val_perplexities', [])\n",
        "        return model, optimizer, epoch + 1, loss, losses, perplexities, val_losses, val_perplexities\n",
        "    else:\n",
        "        print(\"Hiçbir checkpoint bulunamadı, sıfırdan başlanıyor.\")\n",
        "        return model, optimizer, 0, float('inf'), [], [], [], []"
      ]
    },
    {
      "cell_type": "markdown",
      "source": [
        "## Eğitim Fonksiyonu"
      ],
      "metadata": {
        "id": "wgpcya904JMC"
      }
    },
    {
      "cell_type": "code",
      "execution_count": null,
      "metadata": {
        "id": "0NTXnI5DVqqz"
      },
      "outputs": [],
      "source": [
        "def train(device, new_tokens, train_dataloader, validation_dataloader, checkpoint_path = checkpoint_pth):\n",
        "    tokenizer = AutoTokenizer.from_pretrained(model_name)\n",
        "    model = AutoModelForCausalLM.from_pretrained(model_name)\n",
        "    if new_tokens:\n",
        "        tokenizer.add_tokens(new_tokens)\n",
        "        model.resize_token_embeddings(len(tokenizer))\n",
        "    model.to(device)\n",
        "    optimizer = AdamW(model.parameters(), lr=lr)\n",
        "\n",
        "    # Checkpoint'ten modeli, optimizer'ı, epoch bilgisini, en iyi loss değerini ve metrik listelerini yükle\n",
        "    model, optimizer, start_epoch, best_loss, losses, perplexities, val_losses, val_perplexities = load_checkpoint(checkpoint_path, model, optimizer)\n",
        "    if start_epoch == epoch_sayisi:\n",
        "        print(\"Eğitim zaten tamam...\")\n",
        "        return None\n",
        "    best_model, _, _, _, _, _, _, _ = load_checkpoint(checkpoint_path, model, optimizer, best_checkpoint_name)\n",
        "    for epoch in range(start_epoch, epoch_sayisi):\n",
        "        print(f\"Epoch {epoch} başlıyor...\")\n",
        "        model.train()\n",
        "        total_loss = 0\n",
        "        total_perplexity = 0\n",
        "        for batch in tqdm(train_dataloader, desc=f\"Epoch {epoch}\", unit=\"batch\"):\n",
        "            optimizer.zero_grad()\n",
        "            inputs = {key: value.to(device) for key, value in batch.items()}\n",
        "            outputs = model(**inputs, labels=inputs[\"input_ids\"])\n",
        "            loss = outputs.loss\n",
        "            loss.backward()\n",
        "            optimizer.step()\n",
        "\n",
        "            batch_loss = loss.item()\n",
        "            batch_perplexity = calculate_perplexity(batch_loss)  # Perplexity hesaplama fonksiyonu\n",
        "            total_loss += batch_loss\n",
        "            total_perplexity += batch_perplexity\n",
        "\n",
        "        epoch_loss = total_loss / len(train_dataloader)\n",
        "        epoch_perplexity = total_perplexity / len(train_dataloader)\n",
        "        print(f\"Epoch {epoch} | Loss: {epoch_loss:.4f} | Perplexity: {epoch_perplexity:.4f}\")\n",
        "\n",
        "        # Doğrulama süreci\n",
        "        model.eval()  # Modeli değerlendirme moduna al\n",
        "        validation_loss = 0\n",
        "        total_validation_perplexity = 0\n",
        "        with torch.no_grad():\n",
        "            for batch in validation_dataloader:\n",
        "                inputs = {key: value.to(device) for key, value in batch.items()}\n",
        "                outputs = model(**inputs, labels=inputs[\"input_ids\"])\n",
        "                batch_loss = outputs.loss.item()\n",
        "                validation_loss += batch_loss\n",
        "\n",
        "                # Perplexity hesapla (Bu örnekte calculate_perplexity fonksiyonunuzun nasıl tanımlandığına bağlıdır)\n",
        "                batch_perplexity = calculate_perplexity(batch_loss)\n",
        "                total_validation_perplexity += batch_perplexity\n",
        "\n",
        "        validation_loss /= len(validation_dataloader)\n",
        "        validation_perplexity = total_validation_perplexity / len(validation_dataloader)\n",
        "\n",
        "        # Doğrulama kaybı ve şaşkınlık metriklerini yazdır\n",
        "        print(f\"Validation Loss: {validation_loss:.4f}\")\n",
        "        print(f\"Validation Perplexity: {validation_perplexity:.4f}\")\n",
        "\n",
        "        # Kaydedilen doğrulama metrik listelerini güncelle\n",
        "        val_losses.append(validation_loss)\n",
        "        val_perplexities.append(validation_perplexity)\n",
        "\n",
        "        # Kaydedilen metrik listelerini ve en iyi modeli güncelle\n",
        "        losses.append(epoch_loss)\n",
        "        perplexities.append(epoch_perplexity)\n",
        "        save_checkpoint(model, optimizer, epoch, best_loss, losses, perplexities, val_losses, val_perplexities, checkpoint_path, checkpoint_name)\n",
        "        is_best = validation_loss < best_loss\n",
        "        if is_best:\n",
        "            best_loss = validation_loss\n",
        "            print(f\"Yeni best model loss değeri {best_loss:.4f}. Checkpoint kaydediliyor...\")\n",
        "            save_checkpoint(model, optimizer, epoch, best_loss, losses, perplexities, val_losses, val_perplexities, checkpoint_path, best_checkpoint_name)\n",
        "            best_model = model\n",
        "    # Eğitim ve doğrulama metriklerinin grafiklerini çizdir\n",
        "    plot_metrics(losses, perplexities, lr, len(train_dataloader.dataset), epoch_sayisi)\n",
        "    plot_metrics(val_losses, val_perplexities, lr, len(validation_dataloader.dataset), epoch_sayisi, gorsel_adi = \"val\")\n",
        "\n",
        "    return best_model"
      ]
    },
    {
      "cell_type": "markdown",
      "source": [
        "# Tokenizer Güncelleme"
      ],
      "metadata": {
        "id": "I9xW2thy4KMi"
      }
    },
    {
      "cell_type": "code",
      "execution_count": null,
      "metadata": {
        "colab": {
          "base_uri": "https://localhost:8080/",
          "height": 301,
          "referenced_widgets": [
            "994a83376b364a31baa67ef3882a4b13",
            "de62199937d1454da2576b4ce9db3443",
            "53e40539640f449db1c307f366c612be",
            "f84a28c60d4b4236abb401e468d0daff",
            "5854540f52884836b7f21aa6d14f7caa",
            "47f07dd0e4ce41eb8daa6500b9a9cb6e",
            "e24d6e8c7a79418588066beb3765ccca",
            "39224a3ff9b2488b824b674c5b246f6a",
            "5e5e89d0f28f4cf3ad1ba428f54db33c",
            "b1f771deb0d54d64ae2d032a55e72daa",
            "21e50d96c3844358b5517ccf0d435a16",
            "c12b8bc40431422abf7d3e88d59a09c6",
            "9b5bee1fa24c4513b4e636d25eb64e64",
            "e84d1644e115476ca0aa29b4e66f53bc",
            "9ec7112c89264ecba38f9ecd1aae7500",
            "dd69778a50184423bcb56889840b8714",
            "b776150462b9439ea11e3e2ff53e7047",
            "b29b280674da4af292889072d3734df6",
            "bb436dbde8c443079ad010f7a0c4f518",
            "ffde86c59b854030b95f81d6609e87fb",
            "ec7d2b3b032343abbace574d39d33079",
            "f7f8ba8065ac4a6ea923eee554837380",
            "7d1e90318d164c31a066653e3da74ce4",
            "28c25ec424fe401db7b8eda02369f591",
            "627845b5c54b48d59a7cc6954b65cbd2",
            "a17abfaef2a448f39601ee13c64a704f",
            "b9b0d82391104c58a42e494d84ec5815",
            "969c9d6c97c54ae68e50379f833b1c88",
            "a6a236c47ed54c02b45e264317207c9f",
            "cdcc6e004d0b48fea0d228bd4fbea728",
            "efcb3a35ca634275aede9eae87552055",
            "77a17a59f4ac4a4c84bfd269d54d7e68",
            "9723983272e44950bab4b02c2871afb1",
            "fd8a50f61da143acbc23c61802a8fbab",
            "3de3717afdd64cba913c38ae470ec3e2",
            "c849450a72534c5e904b266ef1e42c1e",
            "4e7d8d2de8fb4d3f85be31e43fe2ae47",
            "18d222b14f8d44c9bf29e32f1ae7b072",
            "dfa6c7b1ca284c3a8376ddb3fe546e36",
            "6380915884fa434cb5ce470beebfad58",
            "dbf34a25cc3e433cbd4cd8b1b8233ec8",
            "f0f2139bad7e4b38a6a469b02ba12ed3",
            "cf88000d69a34a6f93b4be085ef6d6c7",
            "74aaafe31aaa4429ab5e7728a60c6e3a",
            "bc98c7d461574e7cb1f1a8150d99990a",
            "752f6be9170642768de6159c4699d5a6",
            "cfc8a8949167436eaf0a15443517a9de",
            "2dafc502bacb46d6b5dc9b9b75234b8b",
            "82e6325c8b6e4604bd952790fbae379a",
            "36ab0ab93a534e0386ddc3884be83c84",
            "2a3e56bc70d94a68981d260eecf14a2c",
            "69c4d173b1de4289a580971f5bc8c2b9",
            "bc83f9f34a90490b933a905099f4051f",
            "f56901fe24f144428abaf10502cc9c95",
            "4a72201c39bb4f728ee888bdd24a5a97"
          ]
        },
        "id": "Gw0aAwJXVwmi",
        "outputId": "6d4ce24d-b9cd-4724-b725-500726618b2e"
      },
      "outputs": [
        {
          "output_type": "stream",
          "name": "stderr",
          "text": [
            "/usr/local/lib/python3.10/dist-packages/huggingface_hub/utils/_token.py:88: UserWarning: \n",
            "The secret `HF_TOKEN` does not exist in your Colab secrets.\n",
            "To authenticate with the Hugging Face Hub, create a token in your settings tab (https://huggingface.co/settings/tokens), set it as secret in your Google Colab and restart your session.\n",
            "You will be able to reuse this secret in all of your notebooks.\n",
            "Please note that authentication is recommended but still optional to access public models or datasets.\n",
            "  warnings.warn(\n"
          ]
        },
        {
          "output_type": "display_data",
          "data": {
            "text/plain": [
              "tokenizer_config.json:   0%|          | 0.00/537 [00:00<?, ?B/s]"
            ],
            "application/vnd.jupyter.widget-view+json": {
              "version_major": 2,
              "version_minor": 0,
              "model_id": "994a83376b364a31baa67ef3882a4b13"
            }
          },
          "metadata": {}
        },
        {
          "output_type": "display_data",
          "data": {
            "text/plain": [
              "vocab.json:   0%|          | 0.00/927k [00:00<?, ?B/s]"
            ],
            "application/vnd.jupyter.widget-view+json": {
              "version_major": 2,
              "version_minor": 0,
              "model_id": "c12b8bc40431422abf7d3e88d59a09c6"
            }
          },
          "metadata": {}
        },
        {
          "output_type": "display_data",
          "data": {
            "text/plain": [
              "merges.txt:   0%|          | 0.00/585k [00:00<?, ?B/s]"
            ],
            "application/vnd.jupyter.widget-view+json": {
              "version_major": 2,
              "version_minor": 0,
              "model_id": "7d1e90318d164c31a066653e3da74ce4"
            }
          },
          "metadata": {}
        },
        {
          "output_type": "display_data",
          "data": {
            "text/plain": [
              "tokenizer.json:   0%|          | 0.00/2.37M [00:00<?, ?B/s]"
            ],
            "application/vnd.jupyter.widget-view+json": {
              "version_major": 2,
              "version_minor": 0,
              "model_id": "fd8a50f61da143acbc23c61802a8fbab"
            }
          },
          "metadata": {}
        },
        {
          "output_type": "display_data",
          "data": {
            "text/plain": [
              "special_tokens_map.json:   0%|          | 0.00/438 [00:00<?, ?B/s]"
            ],
            "application/vnd.jupyter.widget-view+json": {
              "version_major": 2,
              "version_minor": 0,
              "model_id": "bc98c7d461574e7cb1f1a8150d99990a"
            }
          },
          "metadata": {}
        }
      ],
      "source": [
        "texts = df[metin].tolist()\n",
        "tokenizer = AutoTokenizer.from_pretrained(model_name)\n",
        "\n",
        "\n",
        "unique_words = find_unique_words(texts)\n",
        "\n",
        "# Tokenizer'da olmayan kelimeleri tespit et\n",
        "new_tokens = [word for word in unique_words if tokenizer.convert_tokens_to_ids(word) == tokenizer.unk_token_id]"
      ]
    },
    {
      "cell_type": "markdown",
      "source": [
        "# Veri Seti Okuma"
      ],
      "metadata": {
        "id": "OlTrqsB14PBy"
      }
    },
    {
      "cell_type": "code",
      "execution_count": null,
      "metadata": {
        "id": "KriAZXwmIu-F"
      },
      "outputs": [],
      "source": [
        "dataset = QADataset(dataframe=df, tokenizer=tokenizer)"
      ]
    },
    {
      "cell_type": "markdown",
      "source": [],
      "metadata": {
        "id": "GMoReZ_Q4Sm5"
      }
    },
    {
      "cell_type": "code",
      "execution_count": null,
      "metadata": {
        "id": "HWwhPHuceSkK"
      },
      "outputs": [],
      "source": [
        "# Örnek olarak, dataset'inizin %80'inin eğitim, %20'sinin doğrulama için kullanılacağını varsayalım.\n",
        "train_size = int(0.8 * len(dataset))\n",
        "validation_size = len(dataset) - train_size\n",
        "\n",
        "# Dataset'i rastgele eğitim ve doğrulama setlerine böl\n",
        "train_dataset, validation_dataset = random_split(dataset, [train_size, validation_size])\n",
        "\n",
        "# DataLoader'ları oluştur\n",
        "train_dataloader = DataLoader(train_dataset, batch_size=bs, shuffle=True)\n",
        "validation_dataloader = DataLoader(validation_dataset, batch_size=bs)"
      ]
    },
    {
      "cell_type": "code",
      "execution_count": null,
      "metadata": {
        "colab": {
          "base_uri": "https://localhost:8080/"
        },
        "id": "WUPuyrS6k34l",
        "outputId": "6b683dfe-cda0-4853-8db8-8780fb9d824a"
      },
      "outputs": [
        {
          "output_type": "execute_result",
          "data": {
            "text/plain": [
              "100569"
            ]
          },
          "metadata": {},
          "execution_count": 16
        }
      ],
      "source": [
        "len(dataset)"
      ]
    },
    {
      "cell_type": "markdown",
      "source": [
        "# Model Eğitme"
      ],
      "metadata": {
        "id": "CxX9wBjx4Uhy"
      }
    },
    {
      "cell_type": "code",
      "execution_count": null,
      "metadata": {
        "colab": {
          "base_uri": "https://localhost:8080/",
          "height": 148,
          "referenced_widgets": [
            "fd7d0c0034194149b4c0a2c2f98abc31",
            "b1471cf1190540dab0414afd8eff0960",
            "7ccc8280157146acb3bdf5d2cbbb8175",
            "1b2e222146f7469580f6941653aba07e",
            "07ce72208daa441ba2fd7e08e7d64428",
            "0fb9112bf2d94bdcbc40604148d787da",
            "1d226c5f8ef247e88577a35ef2210fab",
            "a033292b89e549f599b4b0459dc3b1fd",
            "907b7619c57e407983eab0e033fbae28",
            "690e59a54d374765a9f058abdd02de83",
            "293678ba8816441a93bf034e53e2ae51",
            "1d8d32106aed489d9d72a41cc623d08c",
            "fdc692d97cb64c819d0d9f2c7bf368ec",
            "dccdc17bbc364d0e918d4c2c899be303",
            "7e17189d77d04623a28598231a691a54",
            "0c29d5c45c014b649f6c2cd0763c241d",
            "6593771d32fc401db1fac0540b5b6334",
            "224cbbd9b54b4b4cbcdfc3448aaf88e4",
            "3fb605af44064c769b9d6e2a8448ff04",
            "5e43af3ecd9949fbbe754477251b8fad",
            "b57f3bc5ad3941549f4b20e9a8a8c4f9",
            "42d4b5cd23884f459939dce431d4e482",
            "66c0cffc35fd4a71b110ab51d40e31d9",
            "07b00a575fd74575b82a1459e59caf49",
            "e57662f8a5504f50a39d892b6feb5c53",
            "97d8011ac89c4a2197a8cccc9ecb48b7",
            "de73a2394f69413fbf7c21aeeb7276b6",
            "5ce9328dfbec46b2828e9614ebf61eb9",
            "4ccb0ea599c44c91ad4565b68301c03f",
            "1616c3ddf0d244f296ea8d8acc5aee2c",
            "c730146d0a81468abc6410d1e19582d6",
            "f2294e41beb94874a161691dd0868e5f",
            "fd8973b85e3a426994ddcd2cfb833af8"
          ]
        },
        "id": "EA1npWG_lggD",
        "outputId": "f4b50b6a-d507-437a-a872-7b025229e24b"
      },
      "outputs": [
        {
          "output_type": "display_data",
          "data": {
            "text/plain": [
              "config.json:   0%|          | 0.00/946 [00:00<?, ?B/s]"
            ],
            "application/vnd.jupyter.widget-view+json": {
              "version_major": 2,
              "version_minor": 0,
              "model_id": "fd7d0c0034194149b4c0a2c2f98abc31"
            }
          },
          "metadata": {}
        },
        {
          "output_type": "display_data",
          "data": {
            "text/plain": [
              "model.safetensors:   0%|          | 0.00/1.42G [00:00<?, ?B/s]"
            ],
            "application/vnd.jupyter.widget-view+json": {
              "version_major": 2,
              "version_minor": 0,
              "model_id": "1d8d32106aed489d9d72a41cc623d08c"
            }
          },
          "metadata": {}
        },
        {
          "output_type": "display_data",
          "data": {
            "text/plain": [
              "generation_config.json:   0%|          | 0.00/132 [00:00<?, ?B/s]"
            ],
            "application/vnd.jupyter.widget-view+json": {
              "version_major": 2,
              "version_minor": 0,
              "model_id": "66c0cffc35fd4a71b110ab51d40e31d9"
            }
          },
          "metadata": {}
        },
        {
          "output_type": "stream",
          "name": "stdout",
          "text": [
            "Checkpoint şu konumdan yükleniyor ->  /content/drive/My Drive/yl_tez/checkpoint/checkpoint.pth\n",
            "Eğitim zaten tamam...\n"
          ]
        }
      ],
      "source": [
        "model = train(device, new_tokens, train_dataloader, validation_dataloader)"
      ]
    },
    {
      "cell_type": "markdown",
      "source": [],
      "metadata": {
        "id": "T-5134oo4gMi"
      }
    },
    {
      "cell_type": "code",
      "execution_count": null,
      "metadata": {
        "id": "6Iej1hlMV5SW"
      },
      "outputs": [],
      "source": [
        "if model is not None:\n",
        "    # Model ve tokenizer kaydetme\n",
        "    model.save_pretrained(model_yolu)\n",
        "    dataset.tokenizer.save_pretrained(model_yolu)"
      ]
    },
    {
      "cell_type": "markdown",
      "source": [
        "# Model Test Etme"
      ],
      "metadata": {
        "id": "3rULe9y34ioy"
      }
    },
    {
      "cell_type": "code",
      "execution_count": null,
      "metadata": {
        "id": "xkpmqpTQhv-r"
      },
      "outputs": [],
      "source": [
        "from transformers import AutoModelForCausalLM, AutoTokenizer"
      ]
    },
    {
      "cell_type": "code",
      "execution_count": null,
      "metadata": {
        "colab": {
          "base_uri": "https://localhost:8080/"
        },
        "id": "cIEzlYEkh0Gv",
        "outputId": "d0c043c3-3fa5-4e8b-c493-e3499df96ecb"
      },
      "outputs": [
        {
          "output_type": "execute_result",
          "data": {
            "text/plain": [
              "GPT2LMHeadModel(\n",
              "  (transformer): GPT2Model(\n",
              "    (wte): Embedding(50572, 1024)\n",
              "    (wpe): Embedding(1024, 1024)\n",
              "    (drop): Dropout(p=0.1, inplace=False)\n",
              "    (h): ModuleList(\n",
              "      (0-23): 24 x GPT2Block(\n",
              "        (ln_1): LayerNorm((1024,), eps=1e-05, elementwise_affine=True)\n",
              "        (attn): GPT2Attention(\n",
              "          (c_attn): Conv1D()\n",
              "          (c_proj): Conv1D()\n",
              "          (attn_dropout): Dropout(p=0.1, inplace=False)\n",
              "          (resid_dropout): Dropout(p=0.1, inplace=False)\n",
              "        )\n",
              "        (ln_2): LayerNorm((1024,), eps=1e-05, elementwise_affine=True)\n",
              "        (mlp): GPT2MLP(\n",
              "          (c_fc): Conv1D()\n",
              "          (c_proj): Conv1D()\n",
              "          (act): NewGELUActivation()\n",
              "          (dropout): Dropout(p=0.1, inplace=False)\n",
              "        )\n",
              "      )\n",
              "    )\n",
              "    (ln_f): LayerNorm((1024,), eps=1e-05, elementwise_affine=True)\n",
              "  )\n",
              "  (lm_head): Linear(in_features=1024, out_features=50572, bias=False)\n",
              ")"
            ]
          },
          "metadata": {},
          "execution_count": 20
        }
      ],
      "source": [
        "tokenizer = AutoTokenizer.from_pretrained(model_yolu)\n",
        "model = AutoModelForCausalLM.from_pretrained(model_yolu)\n",
        "model.to(device)\n"
      ]
    },
    {
      "cell_type": "code",
      "execution_count": null,
      "metadata": {
        "id": "sNHssY52iyaJ"
      },
      "outputs": [],
      "source": [
        "def generate_text(prompt_text, max_length=100):\n",
        "    # Girdi metnini tokenize et ve attention mask oluştur\n",
        "    encoded_input = tokenizer.encode(prompt_text, return_tensors='pt', padding=True, truncation=True, max_length=max_length).to(device)\n",
        "\n",
        "    # Metin üretimi\n",
        "    output_sequences = model.generate(\n",
        "        input_ids=encoded_input,\n",
        "        max_length=max_length + 20,  # Cevap için ekstra uzunluk\n",
        "        temperature=1.0,\n",
        "        top_k=50,\n",
        "        top_p=0.95,\n",
        "        repetition_penalty=1.2,\n",
        "        do_sample=True,\n",
        "        num_return_sequences=1\n",
        "    )\n",
        "\n",
        "    # Üretilen çıktıyı metne dönüştür\n",
        "    generated_text = tokenizer.decode(output_sequences[0], skip_special_tokens=True)\n",
        "    return generated_text.replace(prompt_text,\"\")"
      ]
    },
    {
      "cell_type": "code",
      "execution_count": null,
      "metadata": {
        "id": "b9wwHFD-izkM",
        "colab": {
          "base_uri": "https://localhost:8080/"
        },
        "outputId": "0a7da59d-f8be-412c-bf48-e53029cf69b1"
      },
      "outputs": [
        {
          "output_type": "stream",
          "name": "stdout",
          "text": [
            "Soru: kalp çarpıntııs var. HbA1c seviyesi düzensiz. elektronik sigara kullanıyor. yaşlı, ve erkek kilosu normal. hipertansiyonu yok.\n",
            "Modelin ürettiği cevap: etkikler, hastanın diyabet hastası olmadığını göstermektedir Hasta, vücut kitle indeksi düşük seviyede Kan şekeri değerleri sağlıklı görünüyor. Aktif yaş grubundaki hasta Hasta hakkında sigara geçmişi verisi yokturHasta için diyabet tanısı konulmamıştır\n",
            "Soru: ben erkeğim sigara içiyorum\n",
            "Modelin ürettiği cevap:  edilmiştir Hastanın vücut kitle indeksi yüksek Hastada herhangi bir kalp rahatsızlığı saptanmamıştır kadındır Yetişkinlik dönemindeki birey hba1c verisine göre Hasta prediyabet durumunda Kişinin kan şekeri seviyesi normal aralıktadır. Sigara kullanımı hakkında herhangi bir bilgi mevcut değildirHastanın diyabet hastası olmadığı belirlenmiştir\n",
            "Soru: aşırı düşük değerindeki bu çevre, tümörün büyüklüğünü gösteriyor. aşırı yüksek doku özelliğine sahip bir tümör yapısı. Bu tümör, dengeli düzgünlük seviyesine sahip. Bu özelliğiyle tümör, oldukça düşük büyüklüğünde bir yarıçapa sahiptir. Ortalama alanı belirgin derecede düşük olan bir tümör.\n",
            "Modelin ürettiği cevap:  kontrolilmiştir.Kötü huylu bir tümör.\n",
            "Soru: aşırı düşük değerindeki bu çevre, tümörün büyüklüğünü gösteriyor. aşırı yüksek doku özelliğine sahip bir tümör yapısı. Bu tümör, dengeli düzgünlük seviyesine sahip. Bu özelliğiyle tümör, oldukça düşük büyüklüğünde bir yarıçapa sahiptir. Ortalama alanı belirgin derecede düşük olan bir tümör. erkektir Tetkikler, hastanın kalp hastası olmadığını göstermektedir hba1c verisine göre Hasta prediyabet durumunda Hasta, aşırı kilolu Yetişkinlik dönemindeki birey Hastanın kan basıncı yüksek bulunmuştur Hasta, geçmişte sigara bağımlısıydı Kan şekeri seviyesi alarm verici derecede yüksek.\n",
            "Modelin ürettiği cevap: Soru: aşırı düşük değerindeki bu çevre, tümörün büyüklüğünü gösteriyor. aşırı yüksek doku özelliğine sahip bir tümör yapısı. Bu tümör, dengeli düzgünlük seviyesine sahip. Bu özelliğiyle tümör, oldukça düşük büyüklüğünde bir yarıçapa sahiptir. Ortalama alanı belirgin derecede düşük olan bir tümör. erkektir Tetkikler, hastanın kalp hastası olmadığını göstermektedir hba1c verisine göre Hasta prediyabet durumunda Hasta, aşırı kilolu Yetişkinlik dönemindeki birey Hastanın kan basıncı yüksek bulunmuştur Hasta, geçmişte sigara bağımlısıydı Kan şekeri seviyesi alarm verici derecede yüksekHasta diyabet hastasıdır\n"
          ]
        }
      ],
      "source": [
        "while True:\n",
        "    # Kullanıcıdan soru girdisi alma\n",
        "    prompt_text = input(\"Soru: \")\n",
        "    if prompt_text == \"exit\":\n",
        "        break\n",
        "    # Tam soru metnini oluştur\n",
        "    full_prompt_text = f\"Soru: {prompt_text} Cevap:\"\n",
        "\n",
        "    # Metin üretimi ve çıktının gösterilmesi\n",
        "    generated_text = generate_text(full_prompt_text)\n",
        "    print(\"Modelin ürettiği cevap:\", generated_text)"
      ]
    }
  ],
  "metadata": {
    "colab": {
      "provenance": [],
      "collapsed_sections": [
        "AYvfzEwH3mNW",
        "1rKDcuwP4uUr",
        "LZJTQepP3p4L",
        "EBAG3Gz03td6",
        "LhBgNZNG3yCD",
        "zHNg7B7D3z9z",
        "dfFeVrW6326q",
        "XMDx_-ij34Sa",
        "ylFqF8_X37Ua",
        "o7apSCUt39hS",
        "_sU-z2Wn4A5C",
        "wgpcya904JMC",
        "I9xW2thy4KMi",
        "OlTrqsB14PBy",
        "CxX9wBjx4Uhy",
        "3rULe9y34ioy"
      ]
    },
    "kernelspec": {
      "display_name": "Python 3",
      "name": "python3"
    },
    "language_info": {
      "name": "python"
    },
    "widgets": {
      "application/vnd.jupyter.widget-state+json": {
        "994a83376b364a31baa67ef3882a4b13": {
          "model_module": "@jupyter-widgets/controls",
          "model_name": "HBoxModel",
          "model_module_version": "1.5.0",
          "state": {
            "_dom_classes": [],
            "_model_module": "@jupyter-widgets/controls",
            "_model_module_version": "1.5.0",
            "_model_name": "HBoxModel",
            "_view_count": null,
            "_view_module": "@jupyter-widgets/controls",
            "_view_module_version": "1.5.0",
            "_view_name": "HBoxView",
            "box_style": "",
            "children": [
              "IPY_MODEL_de62199937d1454da2576b4ce9db3443",
              "IPY_MODEL_53e40539640f449db1c307f366c612be",
              "IPY_MODEL_f84a28c60d4b4236abb401e468d0daff"
            ],
            "layout": "IPY_MODEL_5854540f52884836b7f21aa6d14f7caa"
          }
        },
        "de62199937d1454da2576b4ce9db3443": {
          "model_module": "@jupyter-widgets/controls",
          "model_name": "HTMLModel",
          "model_module_version": "1.5.0",
          "state": {
            "_dom_classes": [],
            "_model_module": "@jupyter-widgets/controls",
            "_model_module_version": "1.5.0",
            "_model_name": "HTMLModel",
            "_view_count": null,
            "_view_module": "@jupyter-widgets/controls",
            "_view_module_version": "1.5.0",
            "_view_name": "HTMLView",
            "description": "",
            "description_tooltip": null,
            "layout": "IPY_MODEL_47f07dd0e4ce41eb8daa6500b9a9cb6e",
            "placeholder": "​",
            "style": "IPY_MODEL_e24d6e8c7a79418588066beb3765ccca",
            "value": "tokenizer_config.json: 100%"
          }
        },
        "53e40539640f449db1c307f366c612be": {
          "model_module": "@jupyter-widgets/controls",
          "model_name": "FloatProgressModel",
          "model_module_version": "1.5.0",
          "state": {
            "_dom_classes": [],
            "_model_module": "@jupyter-widgets/controls",
            "_model_module_version": "1.5.0",
            "_model_name": "FloatProgressModel",
            "_view_count": null,
            "_view_module": "@jupyter-widgets/controls",
            "_view_module_version": "1.5.0",
            "_view_name": "ProgressView",
            "bar_style": "success",
            "description": "",
            "description_tooltip": null,
            "layout": "IPY_MODEL_39224a3ff9b2488b824b674c5b246f6a",
            "max": 537,
            "min": 0,
            "orientation": "horizontal",
            "style": "IPY_MODEL_5e5e89d0f28f4cf3ad1ba428f54db33c",
            "value": 537
          }
        },
        "f84a28c60d4b4236abb401e468d0daff": {
          "model_module": "@jupyter-widgets/controls",
          "model_name": "HTMLModel",
          "model_module_version": "1.5.0",
          "state": {
            "_dom_classes": [],
            "_model_module": "@jupyter-widgets/controls",
            "_model_module_version": "1.5.0",
            "_model_name": "HTMLModel",
            "_view_count": null,
            "_view_module": "@jupyter-widgets/controls",
            "_view_module_version": "1.5.0",
            "_view_name": "HTMLView",
            "description": "",
            "description_tooltip": null,
            "layout": "IPY_MODEL_b1f771deb0d54d64ae2d032a55e72daa",
            "placeholder": "​",
            "style": "IPY_MODEL_21e50d96c3844358b5517ccf0d435a16",
            "value": " 537/537 [00:00&lt;00:00, 20.7kB/s]"
          }
        },
        "5854540f52884836b7f21aa6d14f7caa": {
          "model_module": "@jupyter-widgets/base",
          "model_name": "LayoutModel",
          "model_module_version": "1.2.0",
          "state": {
            "_model_module": "@jupyter-widgets/base",
            "_model_module_version": "1.2.0",
            "_model_name": "LayoutModel",
            "_view_count": null,
            "_view_module": "@jupyter-widgets/base",
            "_view_module_version": "1.2.0",
            "_view_name": "LayoutView",
            "align_content": null,
            "align_items": null,
            "align_self": null,
            "border": null,
            "bottom": null,
            "display": null,
            "flex": null,
            "flex_flow": null,
            "grid_area": null,
            "grid_auto_columns": null,
            "grid_auto_flow": null,
            "grid_auto_rows": null,
            "grid_column": null,
            "grid_gap": null,
            "grid_row": null,
            "grid_template_areas": null,
            "grid_template_columns": null,
            "grid_template_rows": null,
            "height": null,
            "justify_content": null,
            "justify_items": null,
            "left": null,
            "margin": null,
            "max_height": null,
            "max_width": null,
            "min_height": null,
            "min_width": null,
            "object_fit": null,
            "object_position": null,
            "order": null,
            "overflow": null,
            "overflow_x": null,
            "overflow_y": null,
            "padding": null,
            "right": null,
            "top": null,
            "visibility": null,
            "width": null
          }
        },
        "47f07dd0e4ce41eb8daa6500b9a9cb6e": {
          "model_module": "@jupyter-widgets/base",
          "model_name": "LayoutModel",
          "model_module_version": "1.2.0",
          "state": {
            "_model_module": "@jupyter-widgets/base",
            "_model_module_version": "1.2.0",
            "_model_name": "LayoutModel",
            "_view_count": null,
            "_view_module": "@jupyter-widgets/base",
            "_view_module_version": "1.2.0",
            "_view_name": "LayoutView",
            "align_content": null,
            "align_items": null,
            "align_self": null,
            "border": null,
            "bottom": null,
            "display": null,
            "flex": null,
            "flex_flow": null,
            "grid_area": null,
            "grid_auto_columns": null,
            "grid_auto_flow": null,
            "grid_auto_rows": null,
            "grid_column": null,
            "grid_gap": null,
            "grid_row": null,
            "grid_template_areas": null,
            "grid_template_columns": null,
            "grid_template_rows": null,
            "height": null,
            "justify_content": null,
            "justify_items": null,
            "left": null,
            "margin": null,
            "max_height": null,
            "max_width": null,
            "min_height": null,
            "min_width": null,
            "object_fit": null,
            "object_position": null,
            "order": null,
            "overflow": null,
            "overflow_x": null,
            "overflow_y": null,
            "padding": null,
            "right": null,
            "top": null,
            "visibility": null,
            "width": null
          }
        },
        "e24d6e8c7a79418588066beb3765ccca": {
          "model_module": "@jupyter-widgets/controls",
          "model_name": "DescriptionStyleModel",
          "model_module_version": "1.5.0",
          "state": {
            "_model_module": "@jupyter-widgets/controls",
            "_model_module_version": "1.5.0",
            "_model_name": "DescriptionStyleModel",
            "_view_count": null,
            "_view_module": "@jupyter-widgets/base",
            "_view_module_version": "1.2.0",
            "_view_name": "StyleView",
            "description_width": ""
          }
        },
        "39224a3ff9b2488b824b674c5b246f6a": {
          "model_module": "@jupyter-widgets/base",
          "model_name": "LayoutModel",
          "model_module_version": "1.2.0",
          "state": {
            "_model_module": "@jupyter-widgets/base",
            "_model_module_version": "1.2.0",
            "_model_name": "LayoutModel",
            "_view_count": null,
            "_view_module": "@jupyter-widgets/base",
            "_view_module_version": "1.2.0",
            "_view_name": "LayoutView",
            "align_content": null,
            "align_items": null,
            "align_self": null,
            "border": null,
            "bottom": null,
            "display": null,
            "flex": null,
            "flex_flow": null,
            "grid_area": null,
            "grid_auto_columns": null,
            "grid_auto_flow": null,
            "grid_auto_rows": null,
            "grid_column": null,
            "grid_gap": null,
            "grid_row": null,
            "grid_template_areas": null,
            "grid_template_columns": null,
            "grid_template_rows": null,
            "height": null,
            "justify_content": null,
            "justify_items": null,
            "left": null,
            "margin": null,
            "max_height": null,
            "max_width": null,
            "min_height": null,
            "min_width": null,
            "object_fit": null,
            "object_position": null,
            "order": null,
            "overflow": null,
            "overflow_x": null,
            "overflow_y": null,
            "padding": null,
            "right": null,
            "top": null,
            "visibility": null,
            "width": null
          }
        },
        "5e5e89d0f28f4cf3ad1ba428f54db33c": {
          "model_module": "@jupyter-widgets/controls",
          "model_name": "ProgressStyleModel",
          "model_module_version": "1.5.0",
          "state": {
            "_model_module": "@jupyter-widgets/controls",
            "_model_module_version": "1.5.0",
            "_model_name": "ProgressStyleModel",
            "_view_count": null,
            "_view_module": "@jupyter-widgets/base",
            "_view_module_version": "1.2.0",
            "_view_name": "StyleView",
            "bar_color": null,
            "description_width": ""
          }
        },
        "b1f771deb0d54d64ae2d032a55e72daa": {
          "model_module": "@jupyter-widgets/base",
          "model_name": "LayoutModel",
          "model_module_version": "1.2.0",
          "state": {
            "_model_module": "@jupyter-widgets/base",
            "_model_module_version": "1.2.0",
            "_model_name": "LayoutModel",
            "_view_count": null,
            "_view_module": "@jupyter-widgets/base",
            "_view_module_version": "1.2.0",
            "_view_name": "LayoutView",
            "align_content": null,
            "align_items": null,
            "align_self": null,
            "border": null,
            "bottom": null,
            "display": null,
            "flex": null,
            "flex_flow": null,
            "grid_area": null,
            "grid_auto_columns": null,
            "grid_auto_flow": null,
            "grid_auto_rows": null,
            "grid_column": null,
            "grid_gap": null,
            "grid_row": null,
            "grid_template_areas": null,
            "grid_template_columns": null,
            "grid_template_rows": null,
            "height": null,
            "justify_content": null,
            "justify_items": null,
            "left": null,
            "margin": null,
            "max_height": null,
            "max_width": null,
            "min_height": null,
            "min_width": null,
            "object_fit": null,
            "object_position": null,
            "order": null,
            "overflow": null,
            "overflow_x": null,
            "overflow_y": null,
            "padding": null,
            "right": null,
            "top": null,
            "visibility": null,
            "width": null
          }
        },
        "21e50d96c3844358b5517ccf0d435a16": {
          "model_module": "@jupyter-widgets/controls",
          "model_name": "DescriptionStyleModel",
          "model_module_version": "1.5.0",
          "state": {
            "_model_module": "@jupyter-widgets/controls",
            "_model_module_version": "1.5.0",
            "_model_name": "DescriptionStyleModel",
            "_view_count": null,
            "_view_module": "@jupyter-widgets/base",
            "_view_module_version": "1.2.0",
            "_view_name": "StyleView",
            "description_width": ""
          }
        },
        "c12b8bc40431422abf7d3e88d59a09c6": {
          "model_module": "@jupyter-widgets/controls",
          "model_name": "HBoxModel",
          "model_module_version": "1.5.0",
          "state": {
            "_dom_classes": [],
            "_model_module": "@jupyter-widgets/controls",
            "_model_module_version": "1.5.0",
            "_model_name": "HBoxModel",
            "_view_count": null,
            "_view_module": "@jupyter-widgets/controls",
            "_view_module_version": "1.5.0",
            "_view_name": "HBoxView",
            "box_style": "",
            "children": [
              "IPY_MODEL_9b5bee1fa24c4513b4e636d25eb64e64",
              "IPY_MODEL_e84d1644e115476ca0aa29b4e66f53bc",
              "IPY_MODEL_9ec7112c89264ecba38f9ecd1aae7500"
            ],
            "layout": "IPY_MODEL_dd69778a50184423bcb56889840b8714"
          }
        },
        "9b5bee1fa24c4513b4e636d25eb64e64": {
          "model_module": "@jupyter-widgets/controls",
          "model_name": "HTMLModel",
          "model_module_version": "1.5.0",
          "state": {
            "_dom_classes": [],
            "_model_module": "@jupyter-widgets/controls",
            "_model_module_version": "1.5.0",
            "_model_name": "HTMLModel",
            "_view_count": null,
            "_view_module": "@jupyter-widgets/controls",
            "_view_module_version": "1.5.0",
            "_view_name": "HTMLView",
            "description": "",
            "description_tooltip": null,
            "layout": "IPY_MODEL_b776150462b9439ea11e3e2ff53e7047",
            "placeholder": "​",
            "style": "IPY_MODEL_b29b280674da4af292889072d3734df6",
            "value": "vocab.json: 100%"
          }
        },
        "e84d1644e115476ca0aa29b4e66f53bc": {
          "model_module": "@jupyter-widgets/controls",
          "model_name": "FloatProgressModel",
          "model_module_version": "1.5.0",
          "state": {
            "_dom_classes": [],
            "_model_module": "@jupyter-widgets/controls",
            "_model_module_version": "1.5.0",
            "_model_name": "FloatProgressModel",
            "_view_count": null,
            "_view_module": "@jupyter-widgets/controls",
            "_view_module_version": "1.5.0",
            "_view_name": "ProgressView",
            "bar_style": "success",
            "description": "",
            "description_tooltip": null,
            "layout": "IPY_MODEL_bb436dbde8c443079ad010f7a0c4f518",
            "max": 927166,
            "min": 0,
            "orientation": "horizontal",
            "style": "IPY_MODEL_ffde86c59b854030b95f81d6609e87fb",
            "value": 927166
          }
        },
        "9ec7112c89264ecba38f9ecd1aae7500": {
          "model_module": "@jupyter-widgets/controls",
          "model_name": "HTMLModel",
          "model_module_version": "1.5.0",
          "state": {
            "_dom_classes": [],
            "_model_module": "@jupyter-widgets/controls",
            "_model_module_version": "1.5.0",
            "_model_name": "HTMLModel",
            "_view_count": null,
            "_view_module": "@jupyter-widgets/controls",
            "_view_module_version": "1.5.0",
            "_view_name": "HTMLView",
            "description": "",
            "description_tooltip": null,
            "layout": "IPY_MODEL_ec7d2b3b032343abbace574d39d33079",
            "placeholder": "​",
            "style": "IPY_MODEL_f7f8ba8065ac4a6ea923eee554837380",
            "value": " 927k/927k [00:00&lt;00:00, 2.82MB/s]"
          }
        },
        "dd69778a50184423bcb56889840b8714": {
          "model_module": "@jupyter-widgets/base",
          "model_name": "LayoutModel",
          "model_module_version": "1.2.0",
          "state": {
            "_model_module": "@jupyter-widgets/base",
            "_model_module_version": "1.2.0",
            "_model_name": "LayoutModel",
            "_view_count": null,
            "_view_module": "@jupyter-widgets/base",
            "_view_module_version": "1.2.0",
            "_view_name": "LayoutView",
            "align_content": null,
            "align_items": null,
            "align_self": null,
            "border": null,
            "bottom": null,
            "display": null,
            "flex": null,
            "flex_flow": null,
            "grid_area": null,
            "grid_auto_columns": null,
            "grid_auto_flow": null,
            "grid_auto_rows": null,
            "grid_column": null,
            "grid_gap": null,
            "grid_row": null,
            "grid_template_areas": null,
            "grid_template_columns": null,
            "grid_template_rows": null,
            "height": null,
            "justify_content": null,
            "justify_items": null,
            "left": null,
            "margin": null,
            "max_height": null,
            "max_width": null,
            "min_height": null,
            "min_width": null,
            "object_fit": null,
            "object_position": null,
            "order": null,
            "overflow": null,
            "overflow_x": null,
            "overflow_y": null,
            "padding": null,
            "right": null,
            "top": null,
            "visibility": null,
            "width": null
          }
        },
        "b776150462b9439ea11e3e2ff53e7047": {
          "model_module": "@jupyter-widgets/base",
          "model_name": "LayoutModel",
          "model_module_version": "1.2.0",
          "state": {
            "_model_module": "@jupyter-widgets/base",
            "_model_module_version": "1.2.0",
            "_model_name": "LayoutModel",
            "_view_count": null,
            "_view_module": "@jupyter-widgets/base",
            "_view_module_version": "1.2.0",
            "_view_name": "LayoutView",
            "align_content": null,
            "align_items": null,
            "align_self": null,
            "border": null,
            "bottom": null,
            "display": null,
            "flex": null,
            "flex_flow": null,
            "grid_area": null,
            "grid_auto_columns": null,
            "grid_auto_flow": null,
            "grid_auto_rows": null,
            "grid_column": null,
            "grid_gap": null,
            "grid_row": null,
            "grid_template_areas": null,
            "grid_template_columns": null,
            "grid_template_rows": null,
            "height": null,
            "justify_content": null,
            "justify_items": null,
            "left": null,
            "margin": null,
            "max_height": null,
            "max_width": null,
            "min_height": null,
            "min_width": null,
            "object_fit": null,
            "object_position": null,
            "order": null,
            "overflow": null,
            "overflow_x": null,
            "overflow_y": null,
            "padding": null,
            "right": null,
            "top": null,
            "visibility": null,
            "width": null
          }
        },
        "b29b280674da4af292889072d3734df6": {
          "model_module": "@jupyter-widgets/controls",
          "model_name": "DescriptionStyleModel",
          "model_module_version": "1.5.0",
          "state": {
            "_model_module": "@jupyter-widgets/controls",
            "_model_module_version": "1.5.0",
            "_model_name": "DescriptionStyleModel",
            "_view_count": null,
            "_view_module": "@jupyter-widgets/base",
            "_view_module_version": "1.2.0",
            "_view_name": "StyleView",
            "description_width": ""
          }
        },
        "bb436dbde8c443079ad010f7a0c4f518": {
          "model_module": "@jupyter-widgets/base",
          "model_name": "LayoutModel",
          "model_module_version": "1.2.0",
          "state": {
            "_model_module": "@jupyter-widgets/base",
            "_model_module_version": "1.2.0",
            "_model_name": "LayoutModel",
            "_view_count": null,
            "_view_module": "@jupyter-widgets/base",
            "_view_module_version": "1.2.0",
            "_view_name": "LayoutView",
            "align_content": null,
            "align_items": null,
            "align_self": null,
            "border": null,
            "bottom": null,
            "display": null,
            "flex": null,
            "flex_flow": null,
            "grid_area": null,
            "grid_auto_columns": null,
            "grid_auto_flow": null,
            "grid_auto_rows": null,
            "grid_column": null,
            "grid_gap": null,
            "grid_row": null,
            "grid_template_areas": null,
            "grid_template_columns": null,
            "grid_template_rows": null,
            "height": null,
            "justify_content": null,
            "justify_items": null,
            "left": null,
            "margin": null,
            "max_height": null,
            "max_width": null,
            "min_height": null,
            "min_width": null,
            "object_fit": null,
            "object_position": null,
            "order": null,
            "overflow": null,
            "overflow_x": null,
            "overflow_y": null,
            "padding": null,
            "right": null,
            "top": null,
            "visibility": null,
            "width": null
          }
        },
        "ffde86c59b854030b95f81d6609e87fb": {
          "model_module": "@jupyter-widgets/controls",
          "model_name": "ProgressStyleModel",
          "model_module_version": "1.5.0",
          "state": {
            "_model_module": "@jupyter-widgets/controls",
            "_model_module_version": "1.5.0",
            "_model_name": "ProgressStyleModel",
            "_view_count": null,
            "_view_module": "@jupyter-widgets/base",
            "_view_module_version": "1.2.0",
            "_view_name": "StyleView",
            "bar_color": null,
            "description_width": ""
          }
        },
        "ec7d2b3b032343abbace574d39d33079": {
          "model_module": "@jupyter-widgets/base",
          "model_name": "LayoutModel",
          "model_module_version": "1.2.0",
          "state": {
            "_model_module": "@jupyter-widgets/base",
            "_model_module_version": "1.2.0",
            "_model_name": "LayoutModel",
            "_view_count": null,
            "_view_module": "@jupyter-widgets/base",
            "_view_module_version": "1.2.0",
            "_view_name": "LayoutView",
            "align_content": null,
            "align_items": null,
            "align_self": null,
            "border": null,
            "bottom": null,
            "display": null,
            "flex": null,
            "flex_flow": null,
            "grid_area": null,
            "grid_auto_columns": null,
            "grid_auto_flow": null,
            "grid_auto_rows": null,
            "grid_column": null,
            "grid_gap": null,
            "grid_row": null,
            "grid_template_areas": null,
            "grid_template_columns": null,
            "grid_template_rows": null,
            "height": null,
            "justify_content": null,
            "justify_items": null,
            "left": null,
            "margin": null,
            "max_height": null,
            "max_width": null,
            "min_height": null,
            "min_width": null,
            "object_fit": null,
            "object_position": null,
            "order": null,
            "overflow": null,
            "overflow_x": null,
            "overflow_y": null,
            "padding": null,
            "right": null,
            "top": null,
            "visibility": null,
            "width": null
          }
        },
        "f7f8ba8065ac4a6ea923eee554837380": {
          "model_module": "@jupyter-widgets/controls",
          "model_name": "DescriptionStyleModel",
          "model_module_version": "1.5.0",
          "state": {
            "_model_module": "@jupyter-widgets/controls",
            "_model_module_version": "1.5.0",
            "_model_name": "DescriptionStyleModel",
            "_view_count": null,
            "_view_module": "@jupyter-widgets/base",
            "_view_module_version": "1.2.0",
            "_view_name": "StyleView",
            "description_width": ""
          }
        },
        "7d1e90318d164c31a066653e3da74ce4": {
          "model_module": "@jupyter-widgets/controls",
          "model_name": "HBoxModel",
          "model_module_version": "1.5.0",
          "state": {
            "_dom_classes": [],
            "_model_module": "@jupyter-widgets/controls",
            "_model_module_version": "1.5.0",
            "_model_name": "HBoxModel",
            "_view_count": null,
            "_view_module": "@jupyter-widgets/controls",
            "_view_module_version": "1.5.0",
            "_view_name": "HBoxView",
            "box_style": "",
            "children": [
              "IPY_MODEL_28c25ec424fe401db7b8eda02369f591",
              "IPY_MODEL_627845b5c54b48d59a7cc6954b65cbd2",
              "IPY_MODEL_a17abfaef2a448f39601ee13c64a704f"
            ],
            "layout": "IPY_MODEL_b9b0d82391104c58a42e494d84ec5815"
          }
        },
        "28c25ec424fe401db7b8eda02369f591": {
          "model_module": "@jupyter-widgets/controls",
          "model_name": "HTMLModel",
          "model_module_version": "1.5.0",
          "state": {
            "_dom_classes": [],
            "_model_module": "@jupyter-widgets/controls",
            "_model_module_version": "1.5.0",
            "_model_name": "HTMLModel",
            "_view_count": null,
            "_view_module": "@jupyter-widgets/controls",
            "_view_module_version": "1.5.0",
            "_view_name": "HTMLView",
            "description": "",
            "description_tooltip": null,
            "layout": "IPY_MODEL_969c9d6c97c54ae68e50379f833b1c88",
            "placeholder": "​",
            "style": "IPY_MODEL_a6a236c47ed54c02b45e264317207c9f",
            "value": "merges.txt: 100%"
          }
        },
        "627845b5c54b48d59a7cc6954b65cbd2": {
          "model_module": "@jupyter-widgets/controls",
          "model_name": "FloatProgressModel",
          "model_module_version": "1.5.0",
          "state": {
            "_dom_classes": [],
            "_model_module": "@jupyter-widgets/controls",
            "_model_module_version": "1.5.0",
            "_model_name": "FloatProgressModel",
            "_view_count": null,
            "_view_module": "@jupyter-widgets/controls",
            "_view_module_version": "1.5.0",
            "_view_name": "ProgressView",
            "bar_style": "success",
            "description": "",
            "description_tooltip": null,
            "layout": "IPY_MODEL_cdcc6e004d0b48fea0d228bd4fbea728",
            "max": 585427,
            "min": 0,
            "orientation": "horizontal",
            "style": "IPY_MODEL_efcb3a35ca634275aede9eae87552055",
            "value": 585427
          }
        },
        "a17abfaef2a448f39601ee13c64a704f": {
          "model_module": "@jupyter-widgets/controls",
          "model_name": "HTMLModel",
          "model_module_version": "1.5.0",
          "state": {
            "_dom_classes": [],
            "_model_module": "@jupyter-widgets/controls",
            "_model_module_version": "1.5.0",
            "_model_name": "HTMLModel",
            "_view_count": null,
            "_view_module": "@jupyter-widgets/controls",
            "_view_module_version": "1.5.0",
            "_view_name": "HTMLView",
            "description": "",
            "description_tooltip": null,
            "layout": "IPY_MODEL_77a17a59f4ac4a4c84bfd269d54d7e68",
            "placeholder": "​",
            "style": "IPY_MODEL_9723983272e44950bab4b02c2871afb1",
            "value": " 585k/585k [00:00&lt;00:00, 3.57MB/s]"
          }
        },
        "b9b0d82391104c58a42e494d84ec5815": {
          "model_module": "@jupyter-widgets/base",
          "model_name": "LayoutModel",
          "model_module_version": "1.2.0",
          "state": {
            "_model_module": "@jupyter-widgets/base",
            "_model_module_version": "1.2.0",
            "_model_name": "LayoutModel",
            "_view_count": null,
            "_view_module": "@jupyter-widgets/base",
            "_view_module_version": "1.2.0",
            "_view_name": "LayoutView",
            "align_content": null,
            "align_items": null,
            "align_self": null,
            "border": null,
            "bottom": null,
            "display": null,
            "flex": null,
            "flex_flow": null,
            "grid_area": null,
            "grid_auto_columns": null,
            "grid_auto_flow": null,
            "grid_auto_rows": null,
            "grid_column": null,
            "grid_gap": null,
            "grid_row": null,
            "grid_template_areas": null,
            "grid_template_columns": null,
            "grid_template_rows": null,
            "height": null,
            "justify_content": null,
            "justify_items": null,
            "left": null,
            "margin": null,
            "max_height": null,
            "max_width": null,
            "min_height": null,
            "min_width": null,
            "object_fit": null,
            "object_position": null,
            "order": null,
            "overflow": null,
            "overflow_x": null,
            "overflow_y": null,
            "padding": null,
            "right": null,
            "top": null,
            "visibility": null,
            "width": null
          }
        },
        "969c9d6c97c54ae68e50379f833b1c88": {
          "model_module": "@jupyter-widgets/base",
          "model_name": "LayoutModel",
          "model_module_version": "1.2.0",
          "state": {
            "_model_module": "@jupyter-widgets/base",
            "_model_module_version": "1.2.0",
            "_model_name": "LayoutModel",
            "_view_count": null,
            "_view_module": "@jupyter-widgets/base",
            "_view_module_version": "1.2.0",
            "_view_name": "LayoutView",
            "align_content": null,
            "align_items": null,
            "align_self": null,
            "border": null,
            "bottom": null,
            "display": null,
            "flex": null,
            "flex_flow": null,
            "grid_area": null,
            "grid_auto_columns": null,
            "grid_auto_flow": null,
            "grid_auto_rows": null,
            "grid_column": null,
            "grid_gap": null,
            "grid_row": null,
            "grid_template_areas": null,
            "grid_template_columns": null,
            "grid_template_rows": null,
            "height": null,
            "justify_content": null,
            "justify_items": null,
            "left": null,
            "margin": null,
            "max_height": null,
            "max_width": null,
            "min_height": null,
            "min_width": null,
            "object_fit": null,
            "object_position": null,
            "order": null,
            "overflow": null,
            "overflow_x": null,
            "overflow_y": null,
            "padding": null,
            "right": null,
            "top": null,
            "visibility": null,
            "width": null
          }
        },
        "a6a236c47ed54c02b45e264317207c9f": {
          "model_module": "@jupyter-widgets/controls",
          "model_name": "DescriptionStyleModel",
          "model_module_version": "1.5.0",
          "state": {
            "_model_module": "@jupyter-widgets/controls",
            "_model_module_version": "1.5.0",
            "_model_name": "DescriptionStyleModel",
            "_view_count": null,
            "_view_module": "@jupyter-widgets/base",
            "_view_module_version": "1.2.0",
            "_view_name": "StyleView",
            "description_width": ""
          }
        },
        "cdcc6e004d0b48fea0d228bd4fbea728": {
          "model_module": "@jupyter-widgets/base",
          "model_name": "LayoutModel",
          "model_module_version": "1.2.0",
          "state": {
            "_model_module": "@jupyter-widgets/base",
            "_model_module_version": "1.2.0",
            "_model_name": "LayoutModel",
            "_view_count": null,
            "_view_module": "@jupyter-widgets/base",
            "_view_module_version": "1.2.0",
            "_view_name": "LayoutView",
            "align_content": null,
            "align_items": null,
            "align_self": null,
            "border": null,
            "bottom": null,
            "display": null,
            "flex": null,
            "flex_flow": null,
            "grid_area": null,
            "grid_auto_columns": null,
            "grid_auto_flow": null,
            "grid_auto_rows": null,
            "grid_column": null,
            "grid_gap": null,
            "grid_row": null,
            "grid_template_areas": null,
            "grid_template_columns": null,
            "grid_template_rows": null,
            "height": null,
            "justify_content": null,
            "justify_items": null,
            "left": null,
            "margin": null,
            "max_height": null,
            "max_width": null,
            "min_height": null,
            "min_width": null,
            "object_fit": null,
            "object_position": null,
            "order": null,
            "overflow": null,
            "overflow_x": null,
            "overflow_y": null,
            "padding": null,
            "right": null,
            "top": null,
            "visibility": null,
            "width": null
          }
        },
        "efcb3a35ca634275aede9eae87552055": {
          "model_module": "@jupyter-widgets/controls",
          "model_name": "ProgressStyleModel",
          "model_module_version": "1.5.0",
          "state": {
            "_model_module": "@jupyter-widgets/controls",
            "_model_module_version": "1.5.0",
            "_model_name": "ProgressStyleModel",
            "_view_count": null,
            "_view_module": "@jupyter-widgets/base",
            "_view_module_version": "1.2.0",
            "_view_name": "StyleView",
            "bar_color": null,
            "description_width": ""
          }
        },
        "77a17a59f4ac4a4c84bfd269d54d7e68": {
          "model_module": "@jupyter-widgets/base",
          "model_name": "LayoutModel",
          "model_module_version": "1.2.0",
          "state": {
            "_model_module": "@jupyter-widgets/base",
            "_model_module_version": "1.2.0",
            "_model_name": "LayoutModel",
            "_view_count": null,
            "_view_module": "@jupyter-widgets/base",
            "_view_module_version": "1.2.0",
            "_view_name": "LayoutView",
            "align_content": null,
            "align_items": null,
            "align_self": null,
            "border": null,
            "bottom": null,
            "display": null,
            "flex": null,
            "flex_flow": null,
            "grid_area": null,
            "grid_auto_columns": null,
            "grid_auto_flow": null,
            "grid_auto_rows": null,
            "grid_column": null,
            "grid_gap": null,
            "grid_row": null,
            "grid_template_areas": null,
            "grid_template_columns": null,
            "grid_template_rows": null,
            "height": null,
            "justify_content": null,
            "justify_items": null,
            "left": null,
            "margin": null,
            "max_height": null,
            "max_width": null,
            "min_height": null,
            "min_width": null,
            "object_fit": null,
            "object_position": null,
            "order": null,
            "overflow": null,
            "overflow_x": null,
            "overflow_y": null,
            "padding": null,
            "right": null,
            "top": null,
            "visibility": null,
            "width": null
          }
        },
        "9723983272e44950bab4b02c2871afb1": {
          "model_module": "@jupyter-widgets/controls",
          "model_name": "DescriptionStyleModel",
          "model_module_version": "1.5.0",
          "state": {
            "_model_module": "@jupyter-widgets/controls",
            "_model_module_version": "1.5.0",
            "_model_name": "DescriptionStyleModel",
            "_view_count": null,
            "_view_module": "@jupyter-widgets/base",
            "_view_module_version": "1.2.0",
            "_view_name": "StyleView",
            "description_width": ""
          }
        },
        "fd8a50f61da143acbc23c61802a8fbab": {
          "model_module": "@jupyter-widgets/controls",
          "model_name": "HBoxModel",
          "model_module_version": "1.5.0",
          "state": {
            "_dom_classes": [],
            "_model_module": "@jupyter-widgets/controls",
            "_model_module_version": "1.5.0",
            "_model_name": "HBoxModel",
            "_view_count": null,
            "_view_module": "@jupyter-widgets/controls",
            "_view_module_version": "1.5.0",
            "_view_name": "HBoxView",
            "box_style": "",
            "children": [
              "IPY_MODEL_3de3717afdd64cba913c38ae470ec3e2",
              "IPY_MODEL_c849450a72534c5e904b266ef1e42c1e",
              "IPY_MODEL_4e7d8d2de8fb4d3f85be31e43fe2ae47"
            ],
            "layout": "IPY_MODEL_18d222b14f8d44c9bf29e32f1ae7b072"
          }
        },
        "3de3717afdd64cba913c38ae470ec3e2": {
          "model_module": "@jupyter-widgets/controls",
          "model_name": "HTMLModel",
          "model_module_version": "1.5.0",
          "state": {
            "_dom_classes": [],
            "_model_module": "@jupyter-widgets/controls",
            "_model_module_version": "1.5.0",
            "_model_name": "HTMLModel",
            "_view_count": null,
            "_view_module": "@jupyter-widgets/controls",
            "_view_module_version": "1.5.0",
            "_view_name": "HTMLView",
            "description": "",
            "description_tooltip": null,
            "layout": "IPY_MODEL_dfa6c7b1ca284c3a8376ddb3fe546e36",
            "placeholder": "​",
            "style": "IPY_MODEL_6380915884fa434cb5ce470beebfad58",
            "value": "tokenizer.json: 100%"
          }
        },
        "c849450a72534c5e904b266ef1e42c1e": {
          "model_module": "@jupyter-widgets/controls",
          "model_name": "FloatProgressModel",
          "model_module_version": "1.5.0",
          "state": {
            "_dom_classes": [],
            "_model_module": "@jupyter-widgets/controls",
            "_model_module_version": "1.5.0",
            "_model_name": "FloatProgressModel",
            "_view_count": null,
            "_view_module": "@jupyter-widgets/controls",
            "_view_module_version": "1.5.0",
            "_view_name": "ProgressView",
            "bar_style": "success",
            "description": "",
            "description_tooltip": null,
            "layout": "IPY_MODEL_dbf34a25cc3e433cbd4cd8b1b8233ec8",
            "max": 2365668,
            "min": 0,
            "orientation": "horizontal",
            "style": "IPY_MODEL_f0f2139bad7e4b38a6a469b02ba12ed3",
            "value": 2365668
          }
        },
        "4e7d8d2de8fb4d3f85be31e43fe2ae47": {
          "model_module": "@jupyter-widgets/controls",
          "model_name": "HTMLModel",
          "model_module_version": "1.5.0",
          "state": {
            "_dom_classes": [],
            "_model_module": "@jupyter-widgets/controls",
            "_model_module_version": "1.5.0",
            "_model_name": "HTMLModel",
            "_view_count": null,
            "_view_module": "@jupyter-widgets/controls",
            "_view_module_version": "1.5.0",
            "_view_name": "HTMLView",
            "description": "",
            "description_tooltip": null,
            "layout": "IPY_MODEL_cf88000d69a34a6f93b4be085ef6d6c7",
            "placeholder": "​",
            "style": "IPY_MODEL_74aaafe31aaa4429ab5e7728a60c6e3a",
            "value": " 2.37M/2.37M [00:00&lt;00:00, 5.78MB/s]"
          }
        },
        "18d222b14f8d44c9bf29e32f1ae7b072": {
          "model_module": "@jupyter-widgets/base",
          "model_name": "LayoutModel",
          "model_module_version": "1.2.0",
          "state": {
            "_model_module": "@jupyter-widgets/base",
            "_model_module_version": "1.2.0",
            "_model_name": "LayoutModel",
            "_view_count": null,
            "_view_module": "@jupyter-widgets/base",
            "_view_module_version": "1.2.0",
            "_view_name": "LayoutView",
            "align_content": null,
            "align_items": null,
            "align_self": null,
            "border": null,
            "bottom": null,
            "display": null,
            "flex": null,
            "flex_flow": null,
            "grid_area": null,
            "grid_auto_columns": null,
            "grid_auto_flow": null,
            "grid_auto_rows": null,
            "grid_column": null,
            "grid_gap": null,
            "grid_row": null,
            "grid_template_areas": null,
            "grid_template_columns": null,
            "grid_template_rows": null,
            "height": null,
            "justify_content": null,
            "justify_items": null,
            "left": null,
            "margin": null,
            "max_height": null,
            "max_width": null,
            "min_height": null,
            "min_width": null,
            "object_fit": null,
            "object_position": null,
            "order": null,
            "overflow": null,
            "overflow_x": null,
            "overflow_y": null,
            "padding": null,
            "right": null,
            "top": null,
            "visibility": null,
            "width": null
          }
        },
        "dfa6c7b1ca284c3a8376ddb3fe546e36": {
          "model_module": "@jupyter-widgets/base",
          "model_name": "LayoutModel",
          "model_module_version": "1.2.0",
          "state": {
            "_model_module": "@jupyter-widgets/base",
            "_model_module_version": "1.2.0",
            "_model_name": "LayoutModel",
            "_view_count": null,
            "_view_module": "@jupyter-widgets/base",
            "_view_module_version": "1.2.0",
            "_view_name": "LayoutView",
            "align_content": null,
            "align_items": null,
            "align_self": null,
            "border": null,
            "bottom": null,
            "display": null,
            "flex": null,
            "flex_flow": null,
            "grid_area": null,
            "grid_auto_columns": null,
            "grid_auto_flow": null,
            "grid_auto_rows": null,
            "grid_column": null,
            "grid_gap": null,
            "grid_row": null,
            "grid_template_areas": null,
            "grid_template_columns": null,
            "grid_template_rows": null,
            "height": null,
            "justify_content": null,
            "justify_items": null,
            "left": null,
            "margin": null,
            "max_height": null,
            "max_width": null,
            "min_height": null,
            "min_width": null,
            "object_fit": null,
            "object_position": null,
            "order": null,
            "overflow": null,
            "overflow_x": null,
            "overflow_y": null,
            "padding": null,
            "right": null,
            "top": null,
            "visibility": null,
            "width": null
          }
        },
        "6380915884fa434cb5ce470beebfad58": {
          "model_module": "@jupyter-widgets/controls",
          "model_name": "DescriptionStyleModel",
          "model_module_version": "1.5.0",
          "state": {
            "_model_module": "@jupyter-widgets/controls",
            "_model_module_version": "1.5.0",
            "_model_name": "DescriptionStyleModel",
            "_view_count": null,
            "_view_module": "@jupyter-widgets/base",
            "_view_module_version": "1.2.0",
            "_view_name": "StyleView",
            "description_width": ""
          }
        },
        "dbf34a25cc3e433cbd4cd8b1b8233ec8": {
          "model_module": "@jupyter-widgets/base",
          "model_name": "LayoutModel",
          "model_module_version": "1.2.0",
          "state": {
            "_model_module": "@jupyter-widgets/base",
            "_model_module_version": "1.2.0",
            "_model_name": "LayoutModel",
            "_view_count": null,
            "_view_module": "@jupyter-widgets/base",
            "_view_module_version": "1.2.0",
            "_view_name": "LayoutView",
            "align_content": null,
            "align_items": null,
            "align_self": null,
            "border": null,
            "bottom": null,
            "display": null,
            "flex": null,
            "flex_flow": null,
            "grid_area": null,
            "grid_auto_columns": null,
            "grid_auto_flow": null,
            "grid_auto_rows": null,
            "grid_column": null,
            "grid_gap": null,
            "grid_row": null,
            "grid_template_areas": null,
            "grid_template_columns": null,
            "grid_template_rows": null,
            "height": null,
            "justify_content": null,
            "justify_items": null,
            "left": null,
            "margin": null,
            "max_height": null,
            "max_width": null,
            "min_height": null,
            "min_width": null,
            "object_fit": null,
            "object_position": null,
            "order": null,
            "overflow": null,
            "overflow_x": null,
            "overflow_y": null,
            "padding": null,
            "right": null,
            "top": null,
            "visibility": null,
            "width": null
          }
        },
        "f0f2139bad7e4b38a6a469b02ba12ed3": {
          "model_module": "@jupyter-widgets/controls",
          "model_name": "ProgressStyleModel",
          "model_module_version": "1.5.0",
          "state": {
            "_model_module": "@jupyter-widgets/controls",
            "_model_module_version": "1.5.0",
            "_model_name": "ProgressStyleModel",
            "_view_count": null,
            "_view_module": "@jupyter-widgets/base",
            "_view_module_version": "1.2.0",
            "_view_name": "StyleView",
            "bar_color": null,
            "description_width": ""
          }
        },
        "cf88000d69a34a6f93b4be085ef6d6c7": {
          "model_module": "@jupyter-widgets/base",
          "model_name": "LayoutModel",
          "model_module_version": "1.2.0",
          "state": {
            "_model_module": "@jupyter-widgets/base",
            "_model_module_version": "1.2.0",
            "_model_name": "LayoutModel",
            "_view_count": null,
            "_view_module": "@jupyter-widgets/base",
            "_view_module_version": "1.2.0",
            "_view_name": "LayoutView",
            "align_content": null,
            "align_items": null,
            "align_self": null,
            "border": null,
            "bottom": null,
            "display": null,
            "flex": null,
            "flex_flow": null,
            "grid_area": null,
            "grid_auto_columns": null,
            "grid_auto_flow": null,
            "grid_auto_rows": null,
            "grid_column": null,
            "grid_gap": null,
            "grid_row": null,
            "grid_template_areas": null,
            "grid_template_columns": null,
            "grid_template_rows": null,
            "height": null,
            "justify_content": null,
            "justify_items": null,
            "left": null,
            "margin": null,
            "max_height": null,
            "max_width": null,
            "min_height": null,
            "min_width": null,
            "object_fit": null,
            "object_position": null,
            "order": null,
            "overflow": null,
            "overflow_x": null,
            "overflow_y": null,
            "padding": null,
            "right": null,
            "top": null,
            "visibility": null,
            "width": null
          }
        },
        "74aaafe31aaa4429ab5e7728a60c6e3a": {
          "model_module": "@jupyter-widgets/controls",
          "model_name": "DescriptionStyleModel",
          "model_module_version": "1.5.0",
          "state": {
            "_model_module": "@jupyter-widgets/controls",
            "_model_module_version": "1.5.0",
            "_model_name": "DescriptionStyleModel",
            "_view_count": null,
            "_view_module": "@jupyter-widgets/base",
            "_view_module_version": "1.2.0",
            "_view_name": "StyleView",
            "description_width": ""
          }
        },
        "bc98c7d461574e7cb1f1a8150d99990a": {
          "model_module": "@jupyter-widgets/controls",
          "model_name": "HBoxModel",
          "model_module_version": "1.5.0",
          "state": {
            "_dom_classes": [],
            "_model_module": "@jupyter-widgets/controls",
            "_model_module_version": "1.5.0",
            "_model_name": "HBoxModel",
            "_view_count": null,
            "_view_module": "@jupyter-widgets/controls",
            "_view_module_version": "1.5.0",
            "_view_name": "HBoxView",
            "box_style": "",
            "children": [
              "IPY_MODEL_752f6be9170642768de6159c4699d5a6",
              "IPY_MODEL_cfc8a8949167436eaf0a15443517a9de",
              "IPY_MODEL_2dafc502bacb46d6b5dc9b9b75234b8b"
            ],
            "layout": "IPY_MODEL_82e6325c8b6e4604bd952790fbae379a"
          }
        },
        "752f6be9170642768de6159c4699d5a6": {
          "model_module": "@jupyter-widgets/controls",
          "model_name": "HTMLModel",
          "model_module_version": "1.5.0",
          "state": {
            "_dom_classes": [],
            "_model_module": "@jupyter-widgets/controls",
            "_model_module_version": "1.5.0",
            "_model_name": "HTMLModel",
            "_view_count": null,
            "_view_module": "@jupyter-widgets/controls",
            "_view_module_version": "1.5.0",
            "_view_name": "HTMLView",
            "description": "",
            "description_tooltip": null,
            "layout": "IPY_MODEL_36ab0ab93a534e0386ddc3884be83c84",
            "placeholder": "​",
            "style": "IPY_MODEL_2a3e56bc70d94a68981d260eecf14a2c",
            "value": "special_tokens_map.json: 100%"
          }
        },
        "cfc8a8949167436eaf0a15443517a9de": {
          "model_module": "@jupyter-widgets/controls",
          "model_name": "FloatProgressModel",
          "model_module_version": "1.5.0",
          "state": {
            "_dom_classes": [],
            "_model_module": "@jupyter-widgets/controls",
            "_model_module_version": "1.5.0",
            "_model_name": "FloatProgressModel",
            "_view_count": null,
            "_view_module": "@jupyter-widgets/controls",
            "_view_module_version": "1.5.0",
            "_view_name": "ProgressView",
            "bar_style": "success",
            "description": "",
            "description_tooltip": null,
            "layout": "IPY_MODEL_69c4d173b1de4289a580971f5bc8c2b9",
            "max": 438,
            "min": 0,
            "orientation": "horizontal",
            "style": "IPY_MODEL_bc83f9f34a90490b933a905099f4051f",
            "value": 438
          }
        },
        "2dafc502bacb46d6b5dc9b9b75234b8b": {
          "model_module": "@jupyter-widgets/controls",
          "model_name": "HTMLModel",
          "model_module_version": "1.5.0",
          "state": {
            "_dom_classes": [],
            "_model_module": "@jupyter-widgets/controls",
            "_model_module_version": "1.5.0",
            "_model_name": "HTMLModel",
            "_view_count": null,
            "_view_module": "@jupyter-widgets/controls",
            "_view_module_version": "1.5.0",
            "_view_name": "HTMLView",
            "description": "",
            "description_tooltip": null,
            "layout": "IPY_MODEL_f56901fe24f144428abaf10502cc9c95",
            "placeholder": "​",
            "style": "IPY_MODEL_4a72201c39bb4f728ee888bdd24a5a97",
            "value": " 438/438 [00:00&lt;00:00, 17.4kB/s]"
          }
        },
        "82e6325c8b6e4604bd952790fbae379a": {
          "model_module": "@jupyter-widgets/base",
          "model_name": "LayoutModel",
          "model_module_version": "1.2.0",
          "state": {
            "_model_module": "@jupyter-widgets/base",
            "_model_module_version": "1.2.0",
            "_model_name": "LayoutModel",
            "_view_count": null,
            "_view_module": "@jupyter-widgets/base",
            "_view_module_version": "1.2.0",
            "_view_name": "LayoutView",
            "align_content": null,
            "align_items": null,
            "align_self": null,
            "border": null,
            "bottom": null,
            "display": null,
            "flex": null,
            "flex_flow": null,
            "grid_area": null,
            "grid_auto_columns": null,
            "grid_auto_flow": null,
            "grid_auto_rows": null,
            "grid_column": null,
            "grid_gap": null,
            "grid_row": null,
            "grid_template_areas": null,
            "grid_template_columns": null,
            "grid_template_rows": null,
            "height": null,
            "justify_content": null,
            "justify_items": null,
            "left": null,
            "margin": null,
            "max_height": null,
            "max_width": null,
            "min_height": null,
            "min_width": null,
            "object_fit": null,
            "object_position": null,
            "order": null,
            "overflow": null,
            "overflow_x": null,
            "overflow_y": null,
            "padding": null,
            "right": null,
            "top": null,
            "visibility": null,
            "width": null
          }
        },
        "36ab0ab93a534e0386ddc3884be83c84": {
          "model_module": "@jupyter-widgets/base",
          "model_name": "LayoutModel",
          "model_module_version": "1.2.0",
          "state": {
            "_model_module": "@jupyter-widgets/base",
            "_model_module_version": "1.2.0",
            "_model_name": "LayoutModel",
            "_view_count": null,
            "_view_module": "@jupyter-widgets/base",
            "_view_module_version": "1.2.0",
            "_view_name": "LayoutView",
            "align_content": null,
            "align_items": null,
            "align_self": null,
            "border": null,
            "bottom": null,
            "display": null,
            "flex": null,
            "flex_flow": null,
            "grid_area": null,
            "grid_auto_columns": null,
            "grid_auto_flow": null,
            "grid_auto_rows": null,
            "grid_column": null,
            "grid_gap": null,
            "grid_row": null,
            "grid_template_areas": null,
            "grid_template_columns": null,
            "grid_template_rows": null,
            "height": null,
            "justify_content": null,
            "justify_items": null,
            "left": null,
            "margin": null,
            "max_height": null,
            "max_width": null,
            "min_height": null,
            "min_width": null,
            "object_fit": null,
            "object_position": null,
            "order": null,
            "overflow": null,
            "overflow_x": null,
            "overflow_y": null,
            "padding": null,
            "right": null,
            "top": null,
            "visibility": null,
            "width": null
          }
        },
        "2a3e56bc70d94a68981d260eecf14a2c": {
          "model_module": "@jupyter-widgets/controls",
          "model_name": "DescriptionStyleModel",
          "model_module_version": "1.5.0",
          "state": {
            "_model_module": "@jupyter-widgets/controls",
            "_model_module_version": "1.5.0",
            "_model_name": "DescriptionStyleModel",
            "_view_count": null,
            "_view_module": "@jupyter-widgets/base",
            "_view_module_version": "1.2.0",
            "_view_name": "StyleView",
            "description_width": ""
          }
        },
        "69c4d173b1de4289a580971f5bc8c2b9": {
          "model_module": "@jupyter-widgets/base",
          "model_name": "LayoutModel",
          "model_module_version": "1.2.0",
          "state": {
            "_model_module": "@jupyter-widgets/base",
            "_model_module_version": "1.2.0",
            "_model_name": "LayoutModel",
            "_view_count": null,
            "_view_module": "@jupyter-widgets/base",
            "_view_module_version": "1.2.0",
            "_view_name": "LayoutView",
            "align_content": null,
            "align_items": null,
            "align_self": null,
            "border": null,
            "bottom": null,
            "display": null,
            "flex": null,
            "flex_flow": null,
            "grid_area": null,
            "grid_auto_columns": null,
            "grid_auto_flow": null,
            "grid_auto_rows": null,
            "grid_column": null,
            "grid_gap": null,
            "grid_row": null,
            "grid_template_areas": null,
            "grid_template_columns": null,
            "grid_template_rows": null,
            "height": null,
            "justify_content": null,
            "justify_items": null,
            "left": null,
            "margin": null,
            "max_height": null,
            "max_width": null,
            "min_height": null,
            "min_width": null,
            "object_fit": null,
            "object_position": null,
            "order": null,
            "overflow": null,
            "overflow_x": null,
            "overflow_y": null,
            "padding": null,
            "right": null,
            "top": null,
            "visibility": null,
            "width": null
          }
        },
        "bc83f9f34a90490b933a905099f4051f": {
          "model_module": "@jupyter-widgets/controls",
          "model_name": "ProgressStyleModel",
          "model_module_version": "1.5.0",
          "state": {
            "_model_module": "@jupyter-widgets/controls",
            "_model_module_version": "1.5.0",
            "_model_name": "ProgressStyleModel",
            "_view_count": null,
            "_view_module": "@jupyter-widgets/base",
            "_view_module_version": "1.2.0",
            "_view_name": "StyleView",
            "bar_color": null,
            "description_width": ""
          }
        },
        "f56901fe24f144428abaf10502cc9c95": {
          "model_module": "@jupyter-widgets/base",
          "model_name": "LayoutModel",
          "model_module_version": "1.2.0",
          "state": {
            "_model_module": "@jupyter-widgets/base",
            "_model_module_version": "1.2.0",
            "_model_name": "LayoutModel",
            "_view_count": null,
            "_view_module": "@jupyter-widgets/base",
            "_view_module_version": "1.2.0",
            "_view_name": "LayoutView",
            "align_content": null,
            "align_items": null,
            "align_self": null,
            "border": null,
            "bottom": null,
            "display": null,
            "flex": null,
            "flex_flow": null,
            "grid_area": null,
            "grid_auto_columns": null,
            "grid_auto_flow": null,
            "grid_auto_rows": null,
            "grid_column": null,
            "grid_gap": null,
            "grid_row": null,
            "grid_template_areas": null,
            "grid_template_columns": null,
            "grid_template_rows": null,
            "height": null,
            "justify_content": null,
            "justify_items": null,
            "left": null,
            "margin": null,
            "max_height": null,
            "max_width": null,
            "min_height": null,
            "min_width": null,
            "object_fit": null,
            "object_position": null,
            "order": null,
            "overflow": null,
            "overflow_x": null,
            "overflow_y": null,
            "padding": null,
            "right": null,
            "top": null,
            "visibility": null,
            "width": null
          }
        },
        "4a72201c39bb4f728ee888bdd24a5a97": {
          "model_module": "@jupyter-widgets/controls",
          "model_name": "DescriptionStyleModel",
          "model_module_version": "1.5.0",
          "state": {
            "_model_module": "@jupyter-widgets/controls",
            "_model_module_version": "1.5.0",
            "_model_name": "DescriptionStyleModel",
            "_view_count": null,
            "_view_module": "@jupyter-widgets/base",
            "_view_module_version": "1.2.0",
            "_view_name": "StyleView",
            "description_width": ""
          }
        },
        "fd7d0c0034194149b4c0a2c2f98abc31": {
          "model_module": "@jupyter-widgets/controls",
          "model_name": "HBoxModel",
          "model_module_version": "1.5.0",
          "state": {
            "_dom_classes": [],
            "_model_module": "@jupyter-widgets/controls",
            "_model_module_version": "1.5.0",
            "_model_name": "HBoxModel",
            "_view_count": null,
            "_view_module": "@jupyter-widgets/controls",
            "_view_module_version": "1.5.0",
            "_view_name": "HBoxView",
            "box_style": "",
            "children": [
              "IPY_MODEL_b1471cf1190540dab0414afd8eff0960",
              "IPY_MODEL_7ccc8280157146acb3bdf5d2cbbb8175",
              "IPY_MODEL_1b2e222146f7469580f6941653aba07e"
            ],
            "layout": "IPY_MODEL_07ce72208daa441ba2fd7e08e7d64428"
          }
        },
        "b1471cf1190540dab0414afd8eff0960": {
          "model_module": "@jupyter-widgets/controls",
          "model_name": "HTMLModel",
          "model_module_version": "1.5.0",
          "state": {
            "_dom_classes": [],
            "_model_module": "@jupyter-widgets/controls",
            "_model_module_version": "1.5.0",
            "_model_name": "HTMLModel",
            "_view_count": null,
            "_view_module": "@jupyter-widgets/controls",
            "_view_module_version": "1.5.0",
            "_view_name": "HTMLView",
            "description": "",
            "description_tooltip": null,
            "layout": "IPY_MODEL_0fb9112bf2d94bdcbc40604148d787da",
            "placeholder": "​",
            "style": "IPY_MODEL_1d226c5f8ef247e88577a35ef2210fab",
            "value": "config.json: 100%"
          }
        },
        "7ccc8280157146acb3bdf5d2cbbb8175": {
          "model_module": "@jupyter-widgets/controls",
          "model_name": "FloatProgressModel",
          "model_module_version": "1.5.0",
          "state": {
            "_dom_classes": [],
            "_model_module": "@jupyter-widgets/controls",
            "_model_module_version": "1.5.0",
            "_model_name": "FloatProgressModel",
            "_view_count": null,
            "_view_module": "@jupyter-widgets/controls",
            "_view_module_version": "1.5.0",
            "_view_name": "ProgressView",
            "bar_style": "success",
            "description": "",
            "description_tooltip": null,
            "layout": "IPY_MODEL_a033292b89e549f599b4b0459dc3b1fd",
            "max": 946,
            "min": 0,
            "orientation": "horizontal",
            "style": "IPY_MODEL_907b7619c57e407983eab0e033fbae28",
            "value": 946
          }
        },
        "1b2e222146f7469580f6941653aba07e": {
          "model_module": "@jupyter-widgets/controls",
          "model_name": "HTMLModel",
          "model_module_version": "1.5.0",
          "state": {
            "_dom_classes": [],
            "_model_module": "@jupyter-widgets/controls",
            "_model_module_version": "1.5.0",
            "_model_name": "HTMLModel",
            "_view_count": null,
            "_view_module": "@jupyter-widgets/controls",
            "_view_module_version": "1.5.0",
            "_view_name": "HTMLView",
            "description": "",
            "description_tooltip": null,
            "layout": "IPY_MODEL_690e59a54d374765a9f058abdd02de83",
            "placeholder": "​",
            "style": "IPY_MODEL_293678ba8816441a93bf034e53e2ae51",
            "value": " 946/946 [00:00&lt;00:00, 35.9kB/s]"
          }
        },
        "07ce72208daa441ba2fd7e08e7d64428": {
          "model_module": "@jupyter-widgets/base",
          "model_name": "LayoutModel",
          "model_module_version": "1.2.0",
          "state": {
            "_model_module": "@jupyter-widgets/base",
            "_model_module_version": "1.2.0",
            "_model_name": "LayoutModel",
            "_view_count": null,
            "_view_module": "@jupyter-widgets/base",
            "_view_module_version": "1.2.0",
            "_view_name": "LayoutView",
            "align_content": null,
            "align_items": null,
            "align_self": null,
            "border": null,
            "bottom": null,
            "display": null,
            "flex": null,
            "flex_flow": null,
            "grid_area": null,
            "grid_auto_columns": null,
            "grid_auto_flow": null,
            "grid_auto_rows": null,
            "grid_column": null,
            "grid_gap": null,
            "grid_row": null,
            "grid_template_areas": null,
            "grid_template_columns": null,
            "grid_template_rows": null,
            "height": null,
            "justify_content": null,
            "justify_items": null,
            "left": null,
            "margin": null,
            "max_height": null,
            "max_width": null,
            "min_height": null,
            "min_width": null,
            "object_fit": null,
            "object_position": null,
            "order": null,
            "overflow": null,
            "overflow_x": null,
            "overflow_y": null,
            "padding": null,
            "right": null,
            "top": null,
            "visibility": null,
            "width": null
          }
        },
        "0fb9112bf2d94bdcbc40604148d787da": {
          "model_module": "@jupyter-widgets/base",
          "model_name": "LayoutModel",
          "model_module_version": "1.2.0",
          "state": {
            "_model_module": "@jupyter-widgets/base",
            "_model_module_version": "1.2.0",
            "_model_name": "LayoutModel",
            "_view_count": null,
            "_view_module": "@jupyter-widgets/base",
            "_view_module_version": "1.2.0",
            "_view_name": "LayoutView",
            "align_content": null,
            "align_items": null,
            "align_self": null,
            "border": null,
            "bottom": null,
            "display": null,
            "flex": null,
            "flex_flow": null,
            "grid_area": null,
            "grid_auto_columns": null,
            "grid_auto_flow": null,
            "grid_auto_rows": null,
            "grid_column": null,
            "grid_gap": null,
            "grid_row": null,
            "grid_template_areas": null,
            "grid_template_columns": null,
            "grid_template_rows": null,
            "height": null,
            "justify_content": null,
            "justify_items": null,
            "left": null,
            "margin": null,
            "max_height": null,
            "max_width": null,
            "min_height": null,
            "min_width": null,
            "object_fit": null,
            "object_position": null,
            "order": null,
            "overflow": null,
            "overflow_x": null,
            "overflow_y": null,
            "padding": null,
            "right": null,
            "top": null,
            "visibility": null,
            "width": null
          }
        },
        "1d226c5f8ef247e88577a35ef2210fab": {
          "model_module": "@jupyter-widgets/controls",
          "model_name": "DescriptionStyleModel",
          "model_module_version": "1.5.0",
          "state": {
            "_model_module": "@jupyter-widgets/controls",
            "_model_module_version": "1.5.0",
            "_model_name": "DescriptionStyleModel",
            "_view_count": null,
            "_view_module": "@jupyter-widgets/base",
            "_view_module_version": "1.2.0",
            "_view_name": "StyleView",
            "description_width": ""
          }
        },
        "a033292b89e549f599b4b0459dc3b1fd": {
          "model_module": "@jupyter-widgets/base",
          "model_name": "LayoutModel",
          "model_module_version": "1.2.0",
          "state": {
            "_model_module": "@jupyter-widgets/base",
            "_model_module_version": "1.2.0",
            "_model_name": "LayoutModel",
            "_view_count": null,
            "_view_module": "@jupyter-widgets/base",
            "_view_module_version": "1.2.0",
            "_view_name": "LayoutView",
            "align_content": null,
            "align_items": null,
            "align_self": null,
            "border": null,
            "bottom": null,
            "display": null,
            "flex": null,
            "flex_flow": null,
            "grid_area": null,
            "grid_auto_columns": null,
            "grid_auto_flow": null,
            "grid_auto_rows": null,
            "grid_column": null,
            "grid_gap": null,
            "grid_row": null,
            "grid_template_areas": null,
            "grid_template_columns": null,
            "grid_template_rows": null,
            "height": null,
            "justify_content": null,
            "justify_items": null,
            "left": null,
            "margin": null,
            "max_height": null,
            "max_width": null,
            "min_height": null,
            "min_width": null,
            "object_fit": null,
            "object_position": null,
            "order": null,
            "overflow": null,
            "overflow_x": null,
            "overflow_y": null,
            "padding": null,
            "right": null,
            "top": null,
            "visibility": null,
            "width": null
          }
        },
        "907b7619c57e407983eab0e033fbae28": {
          "model_module": "@jupyter-widgets/controls",
          "model_name": "ProgressStyleModel",
          "model_module_version": "1.5.0",
          "state": {
            "_model_module": "@jupyter-widgets/controls",
            "_model_module_version": "1.5.0",
            "_model_name": "ProgressStyleModel",
            "_view_count": null,
            "_view_module": "@jupyter-widgets/base",
            "_view_module_version": "1.2.0",
            "_view_name": "StyleView",
            "bar_color": null,
            "description_width": ""
          }
        },
        "690e59a54d374765a9f058abdd02de83": {
          "model_module": "@jupyter-widgets/base",
          "model_name": "LayoutModel",
          "model_module_version": "1.2.0",
          "state": {
            "_model_module": "@jupyter-widgets/base",
            "_model_module_version": "1.2.0",
            "_model_name": "LayoutModel",
            "_view_count": null,
            "_view_module": "@jupyter-widgets/base",
            "_view_module_version": "1.2.0",
            "_view_name": "LayoutView",
            "align_content": null,
            "align_items": null,
            "align_self": null,
            "border": null,
            "bottom": null,
            "display": null,
            "flex": null,
            "flex_flow": null,
            "grid_area": null,
            "grid_auto_columns": null,
            "grid_auto_flow": null,
            "grid_auto_rows": null,
            "grid_column": null,
            "grid_gap": null,
            "grid_row": null,
            "grid_template_areas": null,
            "grid_template_columns": null,
            "grid_template_rows": null,
            "height": null,
            "justify_content": null,
            "justify_items": null,
            "left": null,
            "margin": null,
            "max_height": null,
            "max_width": null,
            "min_height": null,
            "min_width": null,
            "object_fit": null,
            "object_position": null,
            "order": null,
            "overflow": null,
            "overflow_x": null,
            "overflow_y": null,
            "padding": null,
            "right": null,
            "top": null,
            "visibility": null,
            "width": null
          }
        },
        "293678ba8816441a93bf034e53e2ae51": {
          "model_module": "@jupyter-widgets/controls",
          "model_name": "DescriptionStyleModel",
          "model_module_version": "1.5.0",
          "state": {
            "_model_module": "@jupyter-widgets/controls",
            "_model_module_version": "1.5.0",
            "_model_name": "DescriptionStyleModel",
            "_view_count": null,
            "_view_module": "@jupyter-widgets/base",
            "_view_module_version": "1.2.0",
            "_view_name": "StyleView",
            "description_width": ""
          }
        },
        "1d8d32106aed489d9d72a41cc623d08c": {
          "model_module": "@jupyter-widgets/controls",
          "model_name": "HBoxModel",
          "model_module_version": "1.5.0",
          "state": {
            "_dom_classes": [],
            "_model_module": "@jupyter-widgets/controls",
            "_model_module_version": "1.5.0",
            "_model_name": "HBoxModel",
            "_view_count": null,
            "_view_module": "@jupyter-widgets/controls",
            "_view_module_version": "1.5.0",
            "_view_name": "HBoxView",
            "box_style": "",
            "children": [
              "IPY_MODEL_fdc692d97cb64c819d0d9f2c7bf368ec",
              "IPY_MODEL_dccdc17bbc364d0e918d4c2c899be303",
              "IPY_MODEL_7e17189d77d04623a28598231a691a54"
            ],
            "layout": "IPY_MODEL_0c29d5c45c014b649f6c2cd0763c241d"
          }
        },
        "fdc692d97cb64c819d0d9f2c7bf368ec": {
          "model_module": "@jupyter-widgets/controls",
          "model_name": "HTMLModel",
          "model_module_version": "1.5.0",
          "state": {
            "_dom_classes": [],
            "_model_module": "@jupyter-widgets/controls",
            "_model_module_version": "1.5.0",
            "_model_name": "HTMLModel",
            "_view_count": null,
            "_view_module": "@jupyter-widgets/controls",
            "_view_module_version": "1.5.0",
            "_view_name": "HTMLView",
            "description": "",
            "description_tooltip": null,
            "layout": "IPY_MODEL_6593771d32fc401db1fac0540b5b6334",
            "placeholder": "​",
            "style": "IPY_MODEL_224cbbd9b54b4b4cbcdfc3448aaf88e4",
            "value": "model.safetensors: 100%"
          }
        },
        "dccdc17bbc364d0e918d4c2c899be303": {
          "model_module": "@jupyter-widgets/controls",
          "model_name": "FloatProgressModel",
          "model_module_version": "1.5.0",
          "state": {
            "_dom_classes": [],
            "_model_module": "@jupyter-widgets/controls",
            "_model_module_version": "1.5.0",
            "_model_name": "FloatProgressModel",
            "_view_count": null,
            "_view_module": "@jupyter-widgets/controls",
            "_view_module_version": "1.5.0",
            "_view_name": "ProgressView",
            "bar_style": "success",
            "description": "",
            "description_tooltip": null,
            "layout": "IPY_MODEL_3fb605af44064c769b9d6e2a8448ff04",
            "max": 1419322880,
            "min": 0,
            "orientation": "horizontal",
            "style": "IPY_MODEL_5e43af3ecd9949fbbe754477251b8fad",
            "value": 1419322880
          }
        },
        "7e17189d77d04623a28598231a691a54": {
          "model_module": "@jupyter-widgets/controls",
          "model_name": "HTMLModel",
          "model_module_version": "1.5.0",
          "state": {
            "_dom_classes": [],
            "_model_module": "@jupyter-widgets/controls",
            "_model_module_version": "1.5.0",
            "_model_name": "HTMLModel",
            "_view_count": null,
            "_view_module": "@jupyter-widgets/controls",
            "_view_module_version": "1.5.0",
            "_view_name": "HTMLView",
            "description": "",
            "description_tooltip": null,
            "layout": "IPY_MODEL_b57f3bc5ad3941549f4b20e9a8a8c4f9",
            "placeholder": "​",
            "style": "IPY_MODEL_42d4b5cd23884f459939dce431d4e482",
            "value": " 1.42G/1.42G [00:25&lt;00:00, 57.3MB/s]"
          }
        },
        "0c29d5c45c014b649f6c2cd0763c241d": {
          "model_module": "@jupyter-widgets/base",
          "model_name": "LayoutModel",
          "model_module_version": "1.2.0",
          "state": {
            "_model_module": "@jupyter-widgets/base",
            "_model_module_version": "1.2.0",
            "_model_name": "LayoutModel",
            "_view_count": null,
            "_view_module": "@jupyter-widgets/base",
            "_view_module_version": "1.2.0",
            "_view_name": "LayoutView",
            "align_content": null,
            "align_items": null,
            "align_self": null,
            "border": null,
            "bottom": null,
            "display": null,
            "flex": null,
            "flex_flow": null,
            "grid_area": null,
            "grid_auto_columns": null,
            "grid_auto_flow": null,
            "grid_auto_rows": null,
            "grid_column": null,
            "grid_gap": null,
            "grid_row": null,
            "grid_template_areas": null,
            "grid_template_columns": null,
            "grid_template_rows": null,
            "height": null,
            "justify_content": null,
            "justify_items": null,
            "left": null,
            "margin": null,
            "max_height": null,
            "max_width": null,
            "min_height": null,
            "min_width": null,
            "object_fit": null,
            "object_position": null,
            "order": null,
            "overflow": null,
            "overflow_x": null,
            "overflow_y": null,
            "padding": null,
            "right": null,
            "top": null,
            "visibility": null,
            "width": null
          }
        },
        "6593771d32fc401db1fac0540b5b6334": {
          "model_module": "@jupyter-widgets/base",
          "model_name": "LayoutModel",
          "model_module_version": "1.2.0",
          "state": {
            "_model_module": "@jupyter-widgets/base",
            "_model_module_version": "1.2.0",
            "_model_name": "LayoutModel",
            "_view_count": null,
            "_view_module": "@jupyter-widgets/base",
            "_view_module_version": "1.2.0",
            "_view_name": "LayoutView",
            "align_content": null,
            "align_items": null,
            "align_self": null,
            "border": null,
            "bottom": null,
            "display": null,
            "flex": null,
            "flex_flow": null,
            "grid_area": null,
            "grid_auto_columns": null,
            "grid_auto_flow": null,
            "grid_auto_rows": null,
            "grid_column": null,
            "grid_gap": null,
            "grid_row": null,
            "grid_template_areas": null,
            "grid_template_columns": null,
            "grid_template_rows": null,
            "height": null,
            "justify_content": null,
            "justify_items": null,
            "left": null,
            "margin": null,
            "max_height": null,
            "max_width": null,
            "min_height": null,
            "min_width": null,
            "object_fit": null,
            "object_position": null,
            "order": null,
            "overflow": null,
            "overflow_x": null,
            "overflow_y": null,
            "padding": null,
            "right": null,
            "top": null,
            "visibility": null,
            "width": null
          }
        },
        "224cbbd9b54b4b4cbcdfc3448aaf88e4": {
          "model_module": "@jupyter-widgets/controls",
          "model_name": "DescriptionStyleModel",
          "model_module_version": "1.5.0",
          "state": {
            "_model_module": "@jupyter-widgets/controls",
            "_model_module_version": "1.5.0",
            "_model_name": "DescriptionStyleModel",
            "_view_count": null,
            "_view_module": "@jupyter-widgets/base",
            "_view_module_version": "1.2.0",
            "_view_name": "StyleView",
            "description_width": ""
          }
        },
        "3fb605af44064c769b9d6e2a8448ff04": {
          "model_module": "@jupyter-widgets/base",
          "model_name": "LayoutModel",
          "model_module_version": "1.2.0",
          "state": {
            "_model_module": "@jupyter-widgets/base",
            "_model_module_version": "1.2.0",
            "_model_name": "LayoutModel",
            "_view_count": null,
            "_view_module": "@jupyter-widgets/base",
            "_view_module_version": "1.2.0",
            "_view_name": "LayoutView",
            "align_content": null,
            "align_items": null,
            "align_self": null,
            "border": null,
            "bottom": null,
            "display": null,
            "flex": null,
            "flex_flow": null,
            "grid_area": null,
            "grid_auto_columns": null,
            "grid_auto_flow": null,
            "grid_auto_rows": null,
            "grid_column": null,
            "grid_gap": null,
            "grid_row": null,
            "grid_template_areas": null,
            "grid_template_columns": null,
            "grid_template_rows": null,
            "height": null,
            "justify_content": null,
            "justify_items": null,
            "left": null,
            "margin": null,
            "max_height": null,
            "max_width": null,
            "min_height": null,
            "min_width": null,
            "object_fit": null,
            "object_position": null,
            "order": null,
            "overflow": null,
            "overflow_x": null,
            "overflow_y": null,
            "padding": null,
            "right": null,
            "top": null,
            "visibility": null,
            "width": null
          }
        },
        "5e43af3ecd9949fbbe754477251b8fad": {
          "model_module": "@jupyter-widgets/controls",
          "model_name": "ProgressStyleModel",
          "model_module_version": "1.5.0",
          "state": {
            "_model_module": "@jupyter-widgets/controls",
            "_model_module_version": "1.5.0",
            "_model_name": "ProgressStyleModel",
            "_view_count": null,
            "_view_module": "@jupyter-widgets/base",
            "_view_module_version": "1.2.0",
            "_view_name": "StyleView",
            "bar_color": null,
            "description_width": ""
          }
        },
        "b57f3bc5ad3941549f4b20e9a8a8c4f9": {
          "model_module": "@jupyter-widgets/base",
          "model_name": "LayoutModel",
          "model_module_version": "1.2.0",
          "state": {
            "_model_module": "@jupyter-widgets/base",
            "_model_module_version": "1.2.0",
            "_model_name": "LayoutModel",
            "_view_count": null,
            "_view_module": "@jupyter-widgets/base",
            "_view_module_version": "1.2.0",
            "_view_name": "LayoutView",
            "align_content": null,
            "align_items": null,
            "align_self": null,
            "border": null,
            "bottom": null,
            "display": null,
            "flex": null,
            "flex_flow": null,
            "grid_area": null,
            "grid_auto_columns": null,
            "grid_auto_flow": null,
            "grid_auto_rows": null,
            "grid_column": null,
            "grid_gap": null,
            "grid_row": null,
            "grid_template_areas": null,
            "grid_template_columns": null,
            "grid_template_rows": null,
            "height": null,
            "justify_content": null,
            "justify_items": null,
            "left": null,
            "margin": null,
            "max_height": null,
            "max_width": null,
            "min_height": null,
            "min_width": null,
            "object_fit": null,
            "object_position": null,
            "order": null,
            "overflow": null,
            "overflow_x": null,
            "overflow_y": null,
            "padding": null,
            "right": null,
            "top": null,
            "visibility": null,
            "width": null
          }
        },
        "42d4b5cd23884f459939dce431d4e482": {
          "model_module": "@jupyter-widgets/controls",
          "model_name": "DescriptionStyleModel",
          "model_module_version": "1.5.0",
          "state": {
            "_model_module": "@jupyter-widgets/controls",
            "_model_module_version": "1.5.0",
            "_model_name": "DescriptionStyleModel",
            "_view_count": null,
            "_view_module": "@jupyter-widgets/base",
            "_view_module_version": "1.2.0",
            "_view_name": "StyleView",
            "description_width": ""
          }
        },
        "66c0cffc35fd4a71b110ab51d40e31d9": {
          "model_module": "@jupyter-widgets/controls",
          "model_name": "HBoxModel",
          "model_module_version": "1.5.0",
          "state": {
            "_dom_classes": [],
            "_model_module": "@jupyter-widgets/controls",
            "_model_module_version": "1.5.0",
            "_model_name": "HBoxModel",
            "_view_count": null,
            "_view_module": "@jupyter-widgets/controls",
            "_view_module_version": "1.5.0",
            "_view_name": "HBoxView",
            "box_style": "",
            "children": [
              "IPY_MODEL_07b00a575fd74575b82a1459e59caf49",
              "IPY_MODEL_e57662f8a5504f50a39d892b6feb5c53",
              "IPY_MODEL_97d8011ac89c4a2197a8cccc9ecb48b7"
            ],
            "layout": "IPY_MODEL_de73a2394f69413fbf7c21aeeb7276b6"
          }
        },
        "07b00a575fd74575b82a1459e59caf49": {
          "model_module": "@jupyter-widgets/controls",
          "model_name": "HTMLModel",
          "model_module_version": "1.5.0",
          "state": {
            "_dom_classes": [],
            "_model_module": "@jupyter-widgets/controls",
            "_model_module_version": "1.5.0",
            "_model_name": "HTMLModel",
            "_view_count": null,
            "_view_module": "@jupyter-widgets/controls",
            "_view_module_version": "1.5.0",
            "_view_name": "HTMLView",
            "description": "",
            "description_tooltip": null,
            "layout": "IPY_MODEL_5ce9328dfbec46b2828e9614ebf61eb9",
            "placeholder": "​",
            "style": "IPY_MODEL_4ccb0ea599c44c91ad4565b68301c03f",
            "value": "generation_config.json: 100%"
          }
        },
        "e57662f8a5504f50a39d892b6feb5c53": {
          "model_module": "@jupyter-widgets/controls",
          "model_name": "FloatProgressModel",
          "model_module_version": "1.5.0",
          "state": {
            "_dom_classes": [],
            "_model_module": "@jupyter-widgets/controls",
            "_model_module_version": "1.5.0",
            "_model_name": "FloatProgressModel",
            "_view_count": null,
            "_view_module": "@jupyter-widgets/controls",
            "_view_module_version": "1.5.0",
            "_view_name": "ProgressView",
            "bar_style": "success",
            "description": "",
            "description_tooltip": null,
            "layout": "IPY_MODEL_1616c3ddf0d244f296ea8d8acc5aee2c",
            "max": 132,
            "min": 0,
            "orientation": "horizontal",
            "style": "IPY_MODEL_c730146d0a81468abc6410d1e19582d6",
            "value": 132
          }
        },
        "97d8011ac89c4a2197a8cccc9ecb48b7": {
          "model_module": "@jupyter-widgets/controls",
          "model_name": "HTMLModel",
          "model_module_version": "1.5.0",
          "state": {
            "_dom_classes": [],
            "_model_module": "@jupyter-widgets/controls",
            "_model_module_version": "1.5.0",
            "_model_name": "HTMLModel",
            "_view_count": null,
            "_view_module": "@jupyter-widgets/controls",
            "_view_module_version": "1.5.0",
            "_view_name": "HTMLView",
            "description": "",
            "description_tooltip": null,
            "layout": "IPY_MODEL_f2294e41beb94874a161691dd0868e5f",
            "placeholder": "​",
            "style": "IPY_MODEL_fd8973b85e3a426994ddcd2cfb833af8",
            "value": " 132/132 [00:00&lt;00:00, 6.64kB/s]"
          }
        },
        "de73a2394f69413fbf7c21aeeb7276b6": {
          "model_module": "@jupyter-widgets/base",
          "model_name": "LayoutModel",
          "model_module_version": "1.2.0",
          "state": {
            "_model_module": "@jupyter-widgets/base",
            "_model_module_version": "1.2.0",
            "_model_name": "LayoutModel",
            "_view_count": null,
            "_view_module": "@jupyter-widgets/base",
            "_view_module_version": "1.2.0",
            "_view_name": "LayoutView",
            "align_content": null,
            "align_items": null,
            "align_self": null,
            "border": null,
            "bottom": null,
            "display": null,
            "flex": null,
            "flex_flow": null,
            "grid_area": null,
            "grid_auto_columns": null,
            "grid_auto_flow": null,
            "grid_auto_rows": null,
            "grid_column": null,
            "grid_gap": null,
            "grid_row": null,
            "grid_template_areas": null,
            "grid_template_columns": null,
            "grid_template_rows": null,
            "height": null,
            "justify_content": null,
            "justify_items": null,
            "left": null,
            "margin": null,
            "max_height": null,
            "max_width": null,
            "min_height": null,
            "min_width": null,
            "object_fit": null,
            "object_position": null,
            "order": null,
            "overflow": null,
            "overflow_x": null,
            "overflow_y": null,
            "padding": null,
            "right": null,
            "top": null,
            "visibility": null,
            "width": null
          }
        },
        "5ce9328dfbec46b2828e9614ebf61eb9": {
          "model_module": "@jupyter-widgets/base",
          "model_name": "LayoutModel",
          "model_module_version": "1.2.0",
          "state": {
            "_model_module": "@jupyter-widgets/base",
            "_model_module_version": "1.2.0",
            "_model_name": "LayoutModel",
            "_view_count": null,
            "_view_module": "@jupyter-widgets/base",
            "_view_module_version": "1.2.0",
            "_view_name": "LayoutView",
            "align_content": null,
            "align_items": null,
            "align_self": null,
            "border": null,
            "bottom": null,
            "display": null,
            "flex": null,
            "flex_flow": null,
            "grid_area": null,
            "grid_auto_columns": null,
            "grid_auto_flow": null,
            "grid_auto_rows": null,
            "grid_column": null,
            "grid_gap": null,
            "grid_row": null,
            "grid_template_areas": null,
            "grid_template_columns": null,
            "grid_template_rows": null,
            "height": null,
            "justify_content": null,
            "justify_items": null,
            "left": null,
            "margin": null,
            "max_height": null,
            "max_width": null,
            "min_height": null,
            "min_width": null,
            "object_fit": null,
            "object_position": null,
            "order": null,
            "overflow": null,
            "overflow_x": null,
            "overflow_y": null,
            "padding": null,
            "right": null,
            "top": null,
            "visibility": null,
            "width": null
          }
        },
        "4ccb0ea599c44c91ad4565b68301c03f": {
          "model_module": "@jupyter-widgets/controls",
          "model_name": "DescriptionStyleModel",
          "model_module_version": "1.5.0",
          "state": {
            "_model_module": "@jupyter-widgets/controls",
            "_model_module_version": "1.5.0",
            "_model_name": "DescriptionStyleModel",
            "_view_count": null,
            "_view_module": "@jupyter-widgets/base",
            "_view_module_version": "1.2.0",
            "_view_name": "StyleView",
            "description_width": ""
          }
        },
        "1616c3ddf0d244f296ea8d8acc5aee2c": {
          "model_module": "@jupyter-widgets/base",
          "model_name": "LayoutModel",
          "model_module_version": "1.2.0",
          "state": {
            "_model_module": "@jupyter-widgets/base",
            "_model_module_version": "1.2.0",
            "_model_name": "LayoutModel",
            "_view_count": null,
            "_view_module": "@jupyter-widgets/base",
            "_view_module_version": "1.2.0",
            "_view_name": "LayoutView",
            "align_content": null,
            "align_items": null,
            "align_self": null,
            "border": null,
            "bottom": null,
            "display": null,
            "flex": null,
            "flex_flow": null,
            "grid_area": null,
            "grid_auto_columns": null,
            "grid_auto_flow": null,
            "grid_auto_rows": null,
            "grid_column": null,
            "grid_gap": null,
            "grid_row": null,
            "grid_template_areas": null,
            "grid_template_columns": null,
            "grid_template_rows": null,
            "height": null,
            "justify_content": null,
            "justify_items": null,
            "left": null,
            "margin": null,
            "max_height": null,
            "max_width": null,
            "min_height": null,
            "min_width": null,
            "object_fit": null,
            "object_position": null,
            "order": null,
            "overflow": null,
            "overflow_x": null,
            "overflow_y": null,
            "padding": null,
            "right": null,
            "top": null,
            "visibility": null,
            "width": null
          }
        },
        "c730146d0a81468abc6410d1e19582d6": {
          "model_module": "@jupyter-widgets/controls",
          "model_name": "ProgressStyleModel",
          "model_module_version": "1.5.0",
          "state": {
            "_model_module": "@jupyter-widgets/controls",
            "_model_module_version": "1.5.0",
            "_model_name": "ProgressStyleModel",
            "_view_count": null,
            "_view_module": "@jupyter-widgets/base",
            "_view_module_version": "1.2.0",
            "_view_name": "StyleView",
            "bar_color": null,
            "description_width": ""
          }
        },
        "f2294e41beb94874a161691dd0868e5f": {
          "model_module": "@jupyter-widgets/base",
          "model_name": "LayoutModel",
          "model_module_version": "1.2.0",
          "state": {
            "_model_module": "@jupyter-widgets/base",
            "_model_module_version": "1.2.0",
            "_model_name": "LayoutModel",
            "_view_count": null,
            "_view_module": "@jupyter-widgets/base",
            "_view_module_version": "1.2.0",
            "_view_name": "LayoutView",
            "align_content": null,
            "align_items": null,
            "align_self": null,
            "border": null,
            "bottom": null,
            "display": null,
            "flex": null,
            "flex_flow": null,
            "grid_area": null,
            "grid_auto_columns": null,
            "grid_auto_flow": null,
            "grid_auto_rows": null,
            "grid_column": null,
            "grid_gap": null,
            "grid_row": null,
            "grid_template_areas": null,
            "grid_template_columns": null,
            "grid_template_rows": null,
            "height": null,
            "justify_content": null,
            "justify_items": null,
            "left": null,
            "margin": null,
            "max_height": null,
            "max_width": null,
            "min_height": null,
            "min_width": null,
            "object_fit": null,
            "object_position": null,
            "order": null,
            "overflow": null,
            "overflow_x": null,
            "overflow_y": null,
            "padding": null,
            "right": null,
            "top": null,
            "visibility": null,
            "width": null
          }
        },
        "fd8973b85e3a426994ddcd2cfb833af8": {
          "model_module": "@jupyter-widgets/controls",
          "model_name": "DescriptionStyleModel",
          "model_module_version": "1.5.0",
          "state": {
            "_model_module": "@jupyter-widgets/controls",
            "_model_module_version": "1.5.0",
            "_model_name": "DescriptionStyleModel",
            "_view_count": null,
            "_view_module": "@jupyter-widgets/base",
            "_view_module_version": "1.2.0",
            "_view_name": "StyleView",
            "description_width": ""
          }
        }
      }
    }
  },
  "nbformat": 4,
  "nbformat_minor": 0
}