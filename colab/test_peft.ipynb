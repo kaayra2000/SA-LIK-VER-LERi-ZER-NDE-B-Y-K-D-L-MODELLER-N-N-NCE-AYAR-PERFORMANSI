{
  "cells": [
    {
      "cell_type": "code",
      "execution_count": null,
      "metadata": {},
      "outputs": [],
      "source": [
        "base_path = \"/content/drive/My Drive/yl_tez\""
      ]
    },
    {
      "cell_type": "code",
      "execution_count": null,
      "metadata": {
        "colab": {
          "base_uri": "https://localhost:8080/"
        },
        "id": "eCESn5J0czoo",
        "outputId": "7d763eb3-c328-4771-b0d4-f1eed3cd6a13"
      },
      "outputs": [
        {
          "name": "stdout",
          "output_type": "stream",
          "text": [
            "Drive already mounted at /content/drive; to attempt to forcibly remount, call drive.mount(\"/content/drive\", force_remount=True).\n"
          ]
        }
      ],
      "source": [
        "import os, sys\n",
        "if 'COLAB_GPU' in os.environ:\n",
        "    from google.colab import drive\n",
        "    drive.mount('/content/drive')\n",
        "else:\n",
        "    print(\"Yerelde Çalışıyor.\")\n",
        "    base_path = \".\""
      ]
    },
    {
      "cell_type": "code",
      "execution_count": null,
      "metadata": {},
      "outputs": [],
      "source": [
        "!pip install peft"
      ]
    },
    {
      "cell_type": "code",
      "execution_count": null,
      "metadata": {
        "id": "8d6UIaut8XKo"
      },
      "outputs": [],
      "source": [
        "sys.path.append(base_path)\n",
        "from fonksiyonlar import *\n",
        "from degiskenler import *\n",
        "from transformers import AutoModelForCausalLM, AutoTokenizer\n",
        "from peft import PeftConfig, PeftModel"
      ]
    },
    {
      "cell_type": "code",
      "execution_count": null,
      "metadata": {
        "colab": {
          "base_uri": "https://localhost:8080/"
        },
        "id": "w2lN8yf9fs8J",
        "outputId": "fefd4bf1-e64d-421b-f974-b32737e986d0"
      },
      "outputs": [
        {
          "data": {
            "text/plain": [
              "device(type='cpu')"
            ]
          },
          "execution_count": 4,
          "metadata": {},
          "output_type": "execute_result"
        }
      ],
      "source": [
        "device = torch.device(\"cuda\" if torch.cuda.is_available() else \"cpu\")\n",
        "device"
      ]
    },
    {
      "cell_type": "code",
      "execution_count": null,
      "metadata": {
        "colab": {
          "base_uri": "https://localhost:8080/"
        },
        "id": "8NwxIpZKc9tj",
        "outputId": "cb39b6bf-8fe1-4c18-e039-b14b38114012"
      },
      "outputs": [
        {
          "name": "stderr",
          "output_type": "stream",
          "text": [
            "Special tokens have been added in the vocabulary, make sure the associated word embeddings are fine-tuned or trained.\n"
          ]
        }
      ],
      "source": [
        "config = PeftConfig.from_pretrained(model_yolu)\n",
        "tokenizer = AutoTokenizer.from_pretrained(model_yolu)\n",
        "model = AutoModelForCausalLM.from_pretrained(config.base_model_name_or_path)\n",
        "model.resize_token_embeddings(len(tokenizer))\n",
        "model = PeftModel.from_pretrained(model, model_yolu)\n",
        "model.to(device)\n",
        "model.eval()\n",
        "additional_special_tokens = tokenizer.additional_special_tokens"
      ]
    },
    {
      "cell_type": "code",
      "execution_count": null,
      "metadata": {
        "colab": {
          "background_save": true,
          "base_uri": "https://localhost:8080/"
        },
        "id": "-D84tZU5dNTB",
        "outputId": "4e4391fb-9137-488a-c700-888733524c95"
      },
      "outputs": [
        {
          "name": "stdout",
          "output_type": "stream",
          "text": [
            "Modelin ürettiği cevap:    fazla diyabet şekeri bir sorunu1 yoktur bireyisine göre hastası hasta hasta ilgiliba kanc hastac hasta hastanın ver normal ver ciddimemiştir hipertansiyonisine hastalığı hastanınba1 etmem hiçemikc hastanın tespit olmadığı hasta h hastanınla hastada yoktur birbac rahatsızlığıc hastanınc hastanın b1 temas h seviyesi hastanın hastac bir hastanın hasta h hastanın açısından belirlenmiştir \n",
            "Modelin ürettiği cevap:    açısındanisine h ciddi fazla hastası yoktur kadın kanba aktifdıemikbaisine kilolu1 birey hba etmemc göre seviyesiisine kilolucisine ver sigara düzeyi hasta bir hastanınmemiştir kalp hasta yükseklikte sorunu hastanın olmadığıbaisine  glis birey hastanın diyabet hasta diyabet yoktur hastanın şekeri kanisine birey göre ilgili1 yaş hasta b kanbac bir sağlıklı \n"
          ]
        }
      ],
      "source": [
        "test_et(additional_special_tokens, tokenizer, model, device)"
      ]
    }
  ],
  "metadata": {
    "colab": {
      "provenance": []
    },
    "kernelspec": {
      "display_name": "Python 3",
      "name": "python3"
    },
    "language_info": {
      "name": "python",
      "version": "3.10.0"
    }
  },
  "nbformat": 4,
  "nbformat_minor": 0
}
